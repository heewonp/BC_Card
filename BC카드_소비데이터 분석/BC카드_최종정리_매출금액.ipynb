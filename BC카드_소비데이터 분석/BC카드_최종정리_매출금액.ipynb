{
  "nbformat": 4,
  "nbformat_minor": 0,
  "metadata": {
    "colab": {
      "name": "BC카드 최종정리_매출금액",
      "provenance": []
    },
    "kernelspec": {
      "name": "python3",
      "display_name": "Python 3"
    }
  },
  "cells": [
    {
      "cell_type": "code",
      "metadata": {
        "id": "x7AvjuMbvJ5u",
        "outputId": "f97c13de-8a52-41bd-f4c5-669452890818",
        "colab": {
          "base_uri": "https://localhost:8080/",
          "height": 215
        }
      },
      "source": [
        "#한글 깨짐 방지 폰트 다운로드\n",
        "#모든설정 후에 안되면 런타임 다시시작 (필수)\n",
        "!apt -qq -y install fonts-nanum\n"
      ],
      "execution_count": null,
      "outputs": [
        {
          "output_type": "stream",
          "text": [
            "The following NEW packages will be installed:\n",
            "  fonts-nanum\n",
            "0 upgraded, 1 newly installed, 0 to remove and 6 not upgraded.\n",
            "Need to get 9,604 kB of archives.\n",
            "After this operation, 29.5 MB of additional disk space will be used.\n",
            "Selecting previously unselected package fonts-nanum.\n",
            "(Reading database ... 144617 files and directories currently installed.)\n",
            "Preparing to unpack .../fonts-nanum_20170925-1_all.deb ...\n",
            "Unpacking fonts-nanum (20170925-1) ...\n",
            "Setting up fonts-nanum (20170925-1) ...\n",
            "Processing triggers for fontconfig (2.12.6-0ubuntu2) ...\n"
          ],
          "name": "stdout"
        }
      ]
    },
    {
      "cell_type": "code",
      "metadata": {
        "id": "_dkGPuhwvSSW"
      },
      "source": [
        "#라이브러리 설치와 폰트 설정\n",
        "import pandas as pd\n",
        "import numpy as np\n",
        "import matplotlib.pyplot as plt\n",
        "import seaborn as sns\n",
        "from matplotlib import font_manager, rc\n",
        "import matplotlib as mpl\n",
        "import matplotlib.font_manager as fm\n",
        "fontpath = '/usr/share/fonts/truetype/nanum/NanumBarunGothic.ttf'\n",
        "font = fm.FontProperties(fname=fontpath, size=10)\n",
        "plt.rc('font', family='NanumBarunGothic') \n",
        "mpl.font_manager._rebuild()"
      ],
      "execution_count": null,
      "outputs": []
    },
    {
      "cell_type": "code",
      "metadata": {
        "id": "uaEhSpi_vM3g",
        "outputId": "ff84fece-5a8d-431d-a163-a84224463e71",
        "colab": {
          "base_uri": "https://localhost:8080/",
          "height": 35
        }
      },
      "source": [
        "#드라이브 연결\n",
        "\n",
        "from google.colab import drive\n",
        "drive.mount('/content/drive')"
      ],
      "execution_count": null,
      "outputs": [
        {
          "output_type": "stream",
          "text": [
            "Mounted at /content/drive\n"
          ],
          "name": "stdout"
        }
      ]
    },
    {
      "cell_type": "code",
      "metadata": {
        "id": "ufFQMcFhvE2G",
        "outputId": "42bfedef-786c-4a93-e395-a54ac287d011",
        "colab": {
          "base_uri": "https://localhost:8080/",
          "height": 90
        }
      },
      "source": [
        "#폰트 설정 확인\n",
        "\n",
        "sys_font=fm.findSystemFonts()\n",
        "print(f\"sys_font number: {len(sys_font)}\")\n",
        "\n",
        "nanum_font = [f for f in sys_font if 'Nanum' in f]\n",
        "print(f\"nanum_font number: {len(nanum_font)}\")\n",
        "\n",
        "nanum_font\n",
        "\n",
        "!python --version\n",
        "def current_font():\n",
        "  print(f\"설정 폰트 글꼴: {plt.rcParams['font.family']}, 설정 폰트 사이즈: {plt.rcParams['font.size']}\")  # 파이썬 3.6 이상 사용가능하다\n",
        "        \n",
        "current_font()"
      ],
      "execution_count": null,
      "outputs": [
        {
          "output_type": "stream",
          "text": [
            "sys_font number: 17\n",
            "nanum_font number: 0\n",
            "Python 3.6.9\n",
            "설정 폰트 글꼴: ['NanumBarunGothic'], 설정 폰트 사이즈: 10.0\n"
          ],
          "name": "stdout"
        }
      ]
    },
    {
      "cell_type": "code",
      "metadata": {
        "id": "Jah0uKNavIk2"
      },
      "source": [
        "fm._rebuild()\n",
        "#mpl.rcParams['axes.unicode_minus'] = False"
      ],
      "execution_count": null,
      "outputs": []
    },
    {
      "cell_type": "code",
      "metadata": {
        "id": "J6rswcwSvJnY",
        "outputId": "08424117-ffc4-49fc-bef6-894aec1554cb",
        "colab": {
          "base_uri": "https://localhost:8080/",
          "height": 471
        }
      },
      "source": [
        "#그래프 한글 테스트\n",
        "\n",
        "plt.text(0.3, 0.3, '한글', size=100)"
      ],
      "execution_count": null,
      "outputs": [
        {
          "output_type": "execute_result",
          "data": {
            "text/plain": [
              "Text(0.3, 0.3, '한글')"
            ]
          },
          "metadata": {
            "tags": []
          },
          "execution_count": 5
        },
        {
          "output_type": "stream",
          "text": [
            "findfont: Font family ['NanumBarunGothic'] not found. Falling back to DejaVu Sans.\n",
            "findfont: Font family ['NanumBarunGothic'] not found. Falling back to DejaVu Sans.\n",
            "/usr/local/lib/python3.6/dist-packages/matplotlib/backends/backend_agg.py:214: RuntimeWarning: Glyph 54620 missing from current font.\n",
            "  font.set_text(s, 0.0, flags=flags)\n",
            "/usr/local/lib/python3.6/dist-packages/matplotlib/backends/backend_agg.py:214: RuntimeWarning: Glyph 44544 missing from current font.\n",
            "  font.set_text(s, 0.0, flags=flags)\n",
            "/usr/local/lib/python3.6/dist-packages/matplotlib/backends/backend_agg.py:183: RuntimeWarning: Glyph 54620 missing from current font.\n",
            "  font.set_text(s, 0, flags=flags)\n",
            "/usr/local/lib/python3.6/dist-packages/matplotlib/backends/backend_agg.py:183: RuntimeWarning: Glyph 44544 missing from current font.\n",
            "  font.set_text(s, 0, flags=flags)\n"
          ],
          "name": "stderr"
        },
        {
          "output_type": "display_data",
          "data": {
            "image/png": "[encoded data removed]",
            "text/plain": [
              "<Figure size 432x288 with 1 Axes>"
            ]
          },
          "metadata": {
            "tags": [],
            "needs_background": "light"
          }
        }
      ]
    },
    {
      "cell_type": "code",
      "metadata": {
        "id": "E38meFe5xKhr"
      },
      "source": [
        "####################여기서 부터#########################"
      ],
      "execution_count": null,
      "outputs": []
    },
    {
      "cell_type": "code",
      "metadata": {
        "id": "0uTqepPtyUVm"
      },
      "source": [
        "#!!!!!!2019년 거래내역과 2020년 거래내역의 비교\n",
        "\n",
        "#1... 필요 데이터 불러오기\n",
        "df2004=pd.read_csv('drive/My Drive/비씨카드/거래내역_202004.csv',encoding='euc-kr')\n",
        "df2005=pd.read_csv('drive/My Drive/비씨카드/거래내역_202005.csv',encoding='euc-kr')\n",
        "df1904=pd.read_csv('drive/My Drive/비씨카드/거래내역_201904.csv',encoding='euc-kr')\n",
        "df1905=pd.read_csv('drive/My Drive/비씨카드/거래내역_201905.csv',encoding='euc-kr')\n",
        "dfcode=pd.read_csv('drive/My Drive/비씨카드/업종코드.csv', encoding='euc-kr')"
      ],
      "execution_count": null,
      "outputs": []
    },
    {
      "cell_type": "code",
      "metadata": {
        "id": "dQxakNFqxM4e"
      },
      "source": [
        "#2...필요한 컬럼 추리기\n",
        "df2004=df2004[['가맹점업종코드','매출금액']]\n",
        "df2005=df2005[['가맹점업종코드','매출금액']]\n",
        "df1904=df1904[['가맹점업종코드','매출금액']]\n",
        "df1905=df1905[['가맹점업종코드','매출금액']]\n",
        "\n",
        "#3...2019년, 2020년 데이터 합치기\n",
        "df20tot=pd.concat([df2004,df2005])\n",
        "df19tot=pd.concat([df1904,df1905])\n",
        "dftot=pd.concat([df20tot,df19tot])\n",
        "\n",
        "#4....업종코드로 업종명 붙이기\n",
        "dfcode.rename(columns={'업종코드':'가맹점업종코드'},inplace=True)\n",
        "df20tot=pd.merge(df20tot,dfcode,how='left',on='가맹점업종코드')\n",
        "df19tot=pd.merge(df19tot,dfcode,how='left',on='가맹점업종코드')\n",
        "dftot=pd.merge(dftot,dfcode,how='left',on='가맹점업종코드')\n",
        "\n",
        "#5...업종코드 삭제\n",
        "df20tot=df20tot.drop(['가맹점업종코드'],axis=1)\n",
        "df19tot=df19tot.drop(['가맹점업종코드'],axis=1)\n",
        "dftot=dftot.drop(['가맹점업종코드'],axis=1) #2019, 2020년 합계인데 필요 없을듯\n",
        "\n",
        "#6...업종별 매출액\n",
        "dfsum20=df20tot.groupby('업종명').sum()\n",
        "dfsum19=df19tot.groupby('업종명').sum()\n",
        "\n",
        "#7...높은 매출 순서로 정렬\n",
        "dfsum20=dfsum20.sort_values(by=['매출금액'],ascending=False)\n",
        "dfsum19=dfsum19.sort_values(by=['매출금액'],ascending=False)\n",
        "\n",
        "#8...업종명 불러오기 위해 새로 저장\n",
        "dfsum20.to_csv('dfsum20.csv',encoding='euc-kr')\n",
        "dfsum19.to_csv('dfsum19.csv',encoding='euc-kr')\n",
        "\n",
        "#9...새로 다시 불러오기\n",
        "dfsum20=pd.read_csv('dfsum20.csv',encoding='euc-kr')\n",
        "dfsum19=pd.read_csv('dfsum19.csv',encoding='euc-kr')\n",
        "\n",
        "dfsum20_15=dfsum20[:15]\n",
        "dfsum19_15=dfsum19[:15]\n",
        "\n",
        "#10...그래프 라벨 지정 위해서 업종명만 리스트로 따로 저장\n",
        "\n",
        "name20=[]\n",
        "name19=[]\n",
        "name20=dfsum20_15['업종명']\n",
        "name19=dfsum19_15['업종명']\n",
        "\n",
        "#11...그래프 X축 만들기 위한 데이터 처리\n",
        "nameconcat=pd.concat([name20,name19])\n",
        "nameconcat=pd.concat([name20,name19])\n",
        "nameconcat=list(nameconcat)\n",
        "set_name=set(nameconcat) # set으로 변경해서 중복제거\n",
        "nameconcat=list(set_name)\n",
        "\n",
        "#12...동일업종 대상으로 해당 관련 데이터만 추출\n",
        "chart20=dfsum20[dfsum20['업종명'].isin(nameconcat)]\n",
        "chart19=dfsum19[dfsum19['업종명'].isin(nameconcat)]"
      ],
      "execution_count": null,
      "outputs": []
    },
    {
      "cell_type": "code",
      "metadata": {
        "id": "SBI8S-Xf4csc",
        "outputId": "67c762dc-5b27-4069-afa3-1607f6e619b1",
        "colab": {
          "base_uri": "https://localhost:8080/",
          "height": 528
        }
      },
      "source": [
        "chart20\n",
        "\n",
        "#13...차트 추출\n",
        "#plt.figure(figsize=(30,10))\n",
        "##plt.plot(chart20['업종명'],chart20['매출금액'],color='red',marker='o')\n",
        "#plt.plot(chart20['업종명'],chart19['매출금액'],color='black',marker='o')"
      ],
      "execution_count": null,
      "outputs": [
        {
          "output_type": "execute_result",
          "data": {
            "text/html": [
              "<div>\n",
              "<style scoped>\n",
              "    .dataframe tbody tr th:only-of-type {\n",
              "        vertical-align: middle;\n",
              "    }\n",
              "\n",
              "    .dataframe tbody tr th {\n",
              "        vertical-align: top;\n",
              "    }\n",
              "\n",
              "    .dataframe thead th {\n",
              "        text-align: right;\n",
              "    }\n",
              "</style>\n",
              "<table border=\"1\" class=\"dataframe\">\n",
              "  <thead>\n",
              "    <tr style=\"text-align: right;\">\n",
              "      <th></th>\n",
              "      <th>업종명</th>\n",
              "      <th>매출금액</th>\n",
              "    </tr>\n",
              "  </thead>\n",
              "  <tbody>\n",
              "    <tr>\n",
              "      <th>0</th>\n",
              "      <td>이동통신요금</td>\n",
              "      <td>10623026317</td>\n",
              "    </tr>\n",
              "    <tr>\n",
              "      <th>1</th>\n",
              "      <td>인터넷 P/G</td>\n",
              "      <td>8414454087</td>\n",
              "    </tr>\n",
              "    <tr>\n",
              "      <th>2</th>\n",
              "      <td>기타전문점</td>\n",
              "      <td>5924742040</td>\n",
              "    </tr>\n",
              "    <tr>\n",
              "      <th>3</th>\n",
              "      <td>슈퍼 마켓</td>\n",
              "      <td>4518236951</td>\n",
              "    </tr>\n",
              "    <tr>\n",
              "      <th>4</th>\n",
              "      <td>편 의 점</td>\n",
              "      <td>3149626511</td>\n",
              "    </tr>\n",
              "    <tr>\n",
              "      <th>5</th>\n",
              "      <td>대형할인점</td>\n",
              "      <td>2856942979</td>\n",
              "    </tr>\n",
              "    <tr>\n",
              "      <th>6</th>\n",
              "      <td>유아원</td>\n",
              "      <td>1681697779</td>\n",
              "    </tr>\n",
              "    <tr>\n",
              "      <th>7</th>\n",
              "      <td>인터넷종합Mall</td>\n",
              "      <td>1601206937</td>\n",
              "    </tr>\n",
              "    <tr>\n",
              "      <th>8</th>\n",
              "      <td>구내매점(국가기관등)</td>\n",
              "      <td>1269000395</td>\n",
              "    </tr>\n",
              "    <tr>\n",
              "      <th>9</th>\n",
              "      <td>택시</td>\n",
              "      <td>1267830023</td>\n",
              "    </tr>\n",
              "    <tr>\n",
              "      <th>10</th>\n",
              "      <td>일반한식</td>\n",
              "      <td>727013213</td>\n",
              "    </tr>\n",
              "    <tr>\n",
              "      <th>11</th>\n",
              "      <td>농/축협직영매장</td>\n",
              "      <td>446605627</td>\n",
              "    </tr>\n",
              "    <tr>\n",
              "      <th>12</th>\n",
              "      <td>생명 보험</td>\n",
              "      <td>404161931</td>\n",
              "    </tr>\n",
              "    <tr>\n",
              "      <th>13</th>\n",
              "      <td>공공 요금</td>\n",
              "      <td>351488203</td>\n",
              "    </tr>\n",
              "    <tr>\n",
              "      <th>14</th>\n",
              "      <td>서양음식</td>\n",
              "      <td>298010153</td>\n",
              "    </tr>\n",
              "    <tr>\n",
              "      <th>19</th>\n",
              "      <td>자사카드발행백화점</td>\n",
              "      <td>120239414</td>\n",
              "    </tr>\n",
              "  </tbody>\n",
              "</table>\n",
              "</div>"
            ],
            "text/plain": [
              "            업종명         매출금액\n",
              "0        이동통신요금  10623026317\n",
              "1       인터넷 P/G   8414454087\n",
              "2         기타전문점   5924742040\n",
              "3         슈퍼 마켓   4518236951\n",
              "4         편 의 점   3149626511\n",
              "5         대형할인점   2856942979\n",
              "6           유아원   1681697779\n",
              "7     인터넷종합Mall   1601206937\n",
              "8   구내매점(국가기관등)   1269000395\n",
              "9            택시   1267830023\n",
              "10         일반한식    727013213\n",
              "11     농/축협직영매장    446605627\n",
              "12        생명 보험    404161931\n",
              "13        공공 요금    351488203\n",
              "14         서양음식    298010153\n",
              "19    자사카드발행백화점    120239414"
            ]
          },
          "metadata": {
            "tags": []
          },
          "execution_count": 11
        }
      ]
    }
  ]
}