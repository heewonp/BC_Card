{
  "nbformat": 4,
  "nbformat_minor": 0,
  "metadata": {
    "colab": {
      "name": "BC카드 최종정리_거래량",
      "provenance": [],
      "collapsed_sections": []
    },
    "kernelspec": {
      "name": "python3",
      "display_name": "Python 3"
    }
  },
  "cells": [
    {
      "cell_type": "code",
      "metadata": {
        "id": "kB45TGWZD9in",
        "outputId": "87bf8794-28e2-4a34-e684-69c410edce7f",
        "colab": {
          "base_uri": "https://localhost:8080/",
          "height": 212
        }
      },
      "source": [
        "#한글 깨짐 방지 폰트 다운로드\n",
        "#모든설정 후에 안되면 런타임 다시시작 (필수)\n",
        "!apt -qq -y install fonts-nanum"
      ],
      "execution_count": null,
      "outputs": [
        {
          "output_type": "stream",
          "text": [
            "The following NEW packages will be installed:\n",
            "  fonts-nanum\n",
            "0 upgraded, 1 newly installed, 0 to remove and 6 not upgraded.\n",
            "Need to get 9,604 kB of archives.\n",
            "After this operation, 29.5 MB of additional disk space will be used.\n",
            "Selecting previously unselected package fonts-nanum.\n",
            "(Reading database ... 144617 files and directories currently installed.)\n",
            "Preparing to unpack .../fonts-nanum_20170925-1_all.deb ...\n",
            "Unpacking fonts-nanum (20170925-1) ...\n",
            "Setting up fonts-nanum (20170925-1) ...\n",
            "Processing triggers for fontconfig (2.12.6-0ubuntu2) ...\n"
          ],
          "name": "stdout"
        }
      ]
    },
    {
      "cell_type": "code",
      "metadata": {
        "id": "S-6sgfqXoNTy"
      },
      "source": [
        ""
      ],
      "execution_count": null,
      "outputs": []
    },
    {
      "cell_type": "code",
      "metadata": {
        "id": "PnHati5kEp5_"
      },
      "source": [
        "#라이브러리 설치와 폰트 설정\n",
        "import pandas as pd\n",
        "import numpy as np\n",
        "import matplotlib.pyplot as plt\n",
        "import seaborn as sns\n",
        "from matplotlib import font_manager, rc\n",
        "import matplotlib as mpl\n",
        "import matplotlib.font_manager as fm\n",
        "fontpath = '/usr/share/fonts/truetype/nanum/NanumBarunGothic.ttf'\n",
        "font = fm.FontProperties(fname=fontpath, size=10)\n",
        "plt.rc('font', family='NanumBarunGothic') \n",
        "mpl.font_manager._rebuild()"
      ],
      "execution_count": null,
      "outputs": []
    },
    {
      "cell_type": "code",
      "metadata": {
        "id": "h_6w_Cl6EtGv",
        "outputId": "411a9c0b-1848-4c48-81ab-60c3c65fc310",
        "colab": {
          "base_uri": "https://localhost:8080/",
          "height": 35
        }
      },
      "source": [
        "#드라이브 연결\n",
        "\n",
        "from google.colab import drive\n",
        "drive.mount('/content/drive')"
      ],
      "execution_count": null,
      "outputs": [
        {
          "output_type": "stream",
          "text": [
            "Mounted at /content/drive\n"
          ],
          "name": "stdout"
        }
      ]
    },
    {
      "cell_type": "code",
      "metadata": {
        "id": "DUony6onEx7E",
        "outputId": "f7ef57d8-5ef0-4a69-c291-8b8896e7e4fd",
        "colab": {
          "base_uri": "https://localhost:8080/",
          "height": 87
        }
      },
      "source": [
        "#폰트 설정 확인\n",
        "\n",
        "sys_font=fm.findSystemFonts()\n",
        "print(f\"sys_font number: {len(sys_font)}\")\n",
        "\n",
        "nanum_font = [f for f in sys_font if 'Nanum' in f]\n",
        "print(f\"nanum_font number: {len(nanum_font)}\")\n",
        "\n",
        "nanum_font\n",
        "\n",
        "!python --version\n",
        "def current_font():\n",
        "  print(f\"설정 폰트 글꼴: {plt.rcParams['font.family']}, 설정 폰트 사이즈: {plt.rcParams['font.size']}\")  # 파이썬 3.6 이상 사용가능하다\n",
        "        \n",
        "current_font()"
      ],
      "execution_count": null,
      "outputs": [
        {
          "output_type": "stream",
          "text": [
            "sys_font number: 27\n",
            "nanum_font number: 10\n",
            "Python 3.6.9\n",
            "설정 폰트 글꼴: ['NanumBarunGothic'], 설정 폰트 사이즈: 10.0\n"
          ],
          "name": "stdout"
        }
      ]
    },
    {
      "cell_type": "code",
      "metadata": {
        "id": "i2LULc-LE41V"
      },
      "source": [
        "fm._rebuild()\n",
        "mpl.rcParams['axes.unicode_minus'] = False\n",
        "\n"
      ],
      "execution_count": null,
      "outputs": []
    },
    {
      "cell_type": "code",
      "metadata": {
        "id": "h6Qcs0YIFLit",
        "outputId": "e0b16526-d6f0-4ec2-c8f5-3c8c2dbc15f2",
        "colab": {
          "base_uri": "https://localhost:8080/",
          "height": 286
        }
      },
      "source": [
        "#그래프 한글 테스트\n",
        "\n",
        "plt.text(0.3, 0.3, '한글', size=100)"
      ],
      "execution_count": null,
      "outputs": [
        {
          "output_type": "execute_result",
          "data": {
            "text/plain": [
              "Text(0.3, 0.3, '한글')"
            ]
          },
          "metadata": {
            "tags": []
          },
          "execution_count": 5
        },
        {
          "output_type": "display_data",
          "data": {
            "image/png": "[encoded data removed]",
            "text/plain": [
              "<Figure size 432x288 with 1 Axes>"
            ]
          },
          "metadata": {
            "tags": [],
            "needs_background": "light"
          }
        }
      ]
    },
    {
      "cell_type": "code",
      "metadata": {
        "id": "eZB6vjfHE8dY"
      },
      "source": [
        "####################여기서 부터#########################"
      ],
      "execution_count": null,
      "outputs": []
    },
    {
      "cell_type": "code",
      "metadata": {
        "id": "mqO9Tp76FcYJ"
      },
      "source": [
        "#!!!!!!2019년 거래내역과 2020년 거래내역의 비교\n",
        "\n",
        "#1... 필요 데이터 불러오기\n",
        "df2004=pd.read_csv('drive/My Drive/비씨카드/거래내역_202004.csv',encoding='euc-kr')\n",
        "df2005=pd.read_csv('drive/My Drive/비씨카드/거래내역_202005.csv',encoding='euc-kr')\n",
        "df1904=pd.read_csv('drive/My Drive/비씨카드/거래내역_201904.csv',encoding='euc-kr')\n",
        "df1905=pd.read_csv('drive/My Drive/비씨카드/거래내역_201905.csv',encoding='euc-kr')\n",
        "dfcode=pd.read_csv('drive/My Drive/비씨카드/업종코드.csv', encoding='euc-kr')"
      ],
      "execution_count": null,
      "outputs": []
    },
    {
      "cell_type": "code",
      "metadata": {
        "id": "Nbx2GuxVFd0r"
      },
      "source": [
        "#2...필요한 컬럼 추리기\n",
        "df2004=df2004[['가맹점업종코드']]\n",
        "df2005=df2005[['가맹점업종코드']]\n",
        "df1904=df1904[['가맹점업종코드']]\n",
        "df1905=df1905[['가맹점업종코드']]\n",
        "\n",
        "#3...2019년, 2020년 데이터 합치기\n",
        "df20tot=pd.concat([df2004,df2005])\n",
        "df19tot=pd.concat([df1904,df1905])\n",
        "\n",
        "#4....업종코드로 업종명 붙이기\n",
        "dfcode.rename(columns={'업종코드':'가맹점업종코드'},inplace=True)\n",
        "df20tot=pd.merge(df20tot,dfcode,how='left',on='가맹점업종코드')\n",
        "df19tot=pd.merge(df19tot,dfcode,how='left',on='가맹점업종코드')\n",
        "\n",
        "#5...업종코드 삭제\n",
        "df20tot=df20tot.drop(['가맹점업종코드'],axis=1)\n",
        "df19tot=df19tot.drop(['가맹점업종코드'],axis=1)\n",
        "\n",
        "#6...거래량 확인\n",
        "df19tot=df19tot.value_counts()\n",
        "pd.DataFrame(df19tot)\n",
        "df19tot\n",
        "\n",
        "df20tot=df20tot.value_counts()\n",
        "pd.DataFrame(df20tot)\n",
        "df20tot\n",
        "\n",
        "#7...업종명 불러오기 위해 새로 저장\n",
        "df19tot.to_csv('dfval19.csv',encoding='euc-kr')\n",
        "df20tot.to_csv('dfval20.csv',encoding='euc-kr')\n",
        "\n",
        "#8...다시 불러오기\n",
        "df20tot=pd.read_csv('dfval20.csv',encoding='euc-kr')\n",
        "df19tot=pd.read_csv('dfval19.csv',encoding='euc-kr')\n",
        "\n",
        "df20tot.columns=['업종명','거래수']\n",
        "df19tot.columns=['업종명','거래수']\n",
        "\n",
        "#9...sorting\n",
        "df20tot=df20tot.sort_values(by=['거래수'],ascending=False)\n",
        "df19tot=df19tot.sort_values(by=['거래수'],ascending=False)\n",
        "\n",
        "df20_15=df20tot[:15]\n",
        "df19_15=df19tot[:15]"
      ],
      "execution_count": null,
      "outputs": []
    },
    {
      "cell_type": "code",
      "metadata": {
        "id": "F_PWi_nJI6fe",
        "outputId": "9dcd5e87-87f0-4d32-9623-362f6b1365d9",
        "colab": {
          "base_uri": "https://localhost:8080/",
          "height": 407
        }
      },
      "source": [
        "df20tot"
      ],
      "execution_count": null,
      "outputs": [
        {
          "output_type": "execute_result",
          "data": {
            "text/html": [
              "<div>\n",
              "<style scoped>\n",
              "    .dataframe tbody tr th:only-of-type {\n",
              "        vertical-align: middle;\n",
              "    }\n",
              "\n",
              "    .dataframe tbody tr th {\n",
              "        vertical-align: top;\n",
              "    }\n",
              "\n",
              "    .dataframe thead th {\n",
              "        text-align: right;\n",
              "    }\n",
              "</style>\n",
              "<table border=\"1\" class=\"dataframe\">\n",
              "  <thead>\n",
              "    <tr style=\"text-align: right;\">\n",
              "      <th></th>\n",
              "      <th>업종명</th>\n",
              "      <th>거래수</th>\n",
              "    </tr>\n",
              "  </thead>\n",
              "  <tbody>\n",
              "    <tr>\n",
              "      <th>0</th>\n",
              "      <td>기타전문점</td>\n",
              "      <td>593682</td>\n",
              "    </tr>\n",
              "    <tr>\n",
              "      <th>1</th>\n",
              "      <td>편 의 점</td>\n",
              "      <td>351651</td>\n",
              "    </tr>\n",
              "    <tr>\n",
              "      <th>2</th>\n",
              "      <td>슈퍼 마켓</td>\n",
              "      <td>240242</td>\n",
              "    </tr>\n",
              "    <tr>\n",
              "      <th>3</th>\n",
              "      <td>인터넷 P/G</td>\n",
              "      <td>204003</td>\n",
              "    </tr>\n",
              "    <tr>\n",
              "      <th>4</th>\n",
              "      <td>이동통신요금</td>\n",
              "      <td>138781</td>\n",
              "    </tr>\n",
              "    <tr>\n",
              "      <th>...</th>\n",
              "      <td>...</td>\n",
              "      <td>...</td>\n",
              "    </tr>\n",
              "    <tr>\n",
              "      <th>129</th>\n",
              "      <td>초중고교육기관</td>\n",
              "      <td>1</td>\n",
              "    </tr>\n",
              "    <tr>\n",
              "      <th>128</th>\n",
              "      <td>신발</td>\n",
              "      <td>1</td>\n",
              "    </tr>\n",
              "    <tr>\n",
              "      <th>127</th>\n",
              "      <td>면 세 점</td>\n",
              "      <td>1</td>\n",
              "    </tr>\n",
              "    <tr>\n",
              "      <th>126</th>\n",
              "      <td>기념품 점</td>\n",
              "      <td>1</td>\n",
              "    </tr>\n",
              "    <tr>\n",
              "      <th>141</th>\n",
              "      <td>기타서적문구</td>\n",
              "      <td>1</td>\n",
              "    </tr>\n",
              "  </tbody>\n",
              "</table>\n",
              "<p>142 rows × 2 columns</p>\n",
              "</div>"
            ],
            "text/plain": [
              "         업종명     거래수\n",
              "0      기타전문점  593682\n",
              "1      편 의 점  351651\n",
              "2      슈퍼 마켓  240242\n",
              "3    인터넷 P/G  204003\n",
              "4     이동통신요금  138781\n",
              "..       ...     ...\n",
              "129  초중고교육기관       1\n",
              "128       신발       1\n",
              "127    면 세 점       1\n",
              "126    기념품 점       1\n",
              "141   기타서적문구       1\n",
              "\n",
              "[142 rows x 2 columns]"
            ]
          },
          "metadata": {
            "tags": []
          },
          "execution_count": 8
        }
      ]
    },
    {
      "cell_type": "code",
      "metadata": {
        "id": "tzNoETswH1oC"
      },
      "source": [
        "name20=df20_15['업종명']\n",
        "name19=df19_15['업종명']\n",
        "\n",
        "nameconcat=pd.concat([name20,name19])\n",
        "nameconcat=pd.concat([name20,name19])\n",
        "nameconcat=list(nameconcat)\n",
        "set_name=set(nameconcat) # set으로 변경해서 중복제거\n",
        "nameconcat=list(set_name)\n",
        "\n",
        "nameconcat\n",
        "\n",
        "\n",
        "#12...동일업종 대상으로 해당 관련 데이터만 추출\n",
        "chart20=df20tot[df20tot['업종명'].isin(nameconcat)]\n",
        "chart19=df19tot[df19tot['업종명'].isin(nameconcat)]"
      ],
      "execution_count": null,
      "outputs": []
    },
    {
      "cell_type": "code",
      "metadata": {
        "id": "FyBXTmUASWFR",
        "outputId": "c7290963-79ac-48c4-c9bf-ef43b4ec7a21",
        "colab": {
          "base_uri": "https://localhost:8080/",
          "height": 528
        }
      },
      "source": [
        "chart20\n"
      ],
      "execution_count": null,
      "outputs": [
        {
          "output_type": "execute_result",
          "data": {
            "text/html": [
              "<div>\n",
              "<style scoped>\n",
              "    .dataframe tbody tr th:only-of-type {\n",
              "        vertical-align: middle;\n",
              "    }\n",
              "\n",
              "    .dataframe tbody tr th {\n",
              "        vertical-align: top;\n",
              "    }\n",
              "\n",
              "    .dataframe thead th {\n",
              "        text-align: right;\n",
              "    }\n",
              "</style>\n",
              "<table border=\"1\" class=\"dataframe\">\n",
              "  <thead>\n",
              "    <tr style=\"text-align: right;\">\n",
              "      <th></th>\n",
              "      <th>업종명</th>\n",
              "      <th>거래수</th>\n",
              "    </tr>\n",
              "  </thead>\n",
              "  <tbody>\n",
              "    <tr>\n",
              "      <th>0</th>\n",
              "      <td>기타전문점</td>\n",
              "      <td>593682</td>\n",
              "    </tr>\n",
              "    <tr>\n",
              "      <th>1</th>\n",
              "      <td>편 의 점</td>\n",
              "      <td>351651</td>\n",
              "    </tr>\n",
              "    <tr>\n",
              "      <th>2</th>\n",
              "      <td>슈퍼 마켓</td>\n",
              "      <td>240242</td>\n",
              "    </tr>\n",
              "    <tr>\n",
              "      <th>3</th>\n",
              "      <td>인터넷 P/G</td>\n",
              "      <td>204003</td>\n",
              "    </tr>\n",
              "    <tr>\n",
              "      <th>4</th>\n",
              "      <td>이동통신요금</td>\n",
              "      <td>138781</td>\n",
              "    </tr>\n",
              "    <tr>\n",
              "      <th>5</th>\n",
              "      <td>구내매점(국가기관등)</td>\n",
              "      <td>119654</td>\n",
              "    </tr>\n",
              "    <tr>\n",
              "      <th>6</th>\n",
              "      <td>택시</td>\n",
              "      <td>118501</td>\n",
              "    </tr>\n",
              "    <tr>\n",
              "      <th>7</th>\n",
              "      <td>대형할인점</td>\n",
              "      <td>104098</td>\n",
              "    </tr>\n",
              "    <tr>\n",
              "      <th>8</th>\n",
              "      <td>인터넷종합Mall</td>\n",
              "      <td>39614</td>\n",
              "    </tr>\n",
              "    <tr>\n",
              "      <th>9</th>\n",
              "      <td>서양음식</td>\n",
              "      <td>36737</td>\n",
              "    </tr>\n",
              "    <tr>\n",
              "      <th>10</th>\n",
              "      <td>일반한식</td>\n",
              "      <td>26210</td>\n",
              "    </tr>\n",
              "    <tr>\n",
              "      <th>11</th>\n",
              "      <td>기타레져업</td>\n",
              "      <td>14540</td>\n",
              "    </tr>\n",
              "    <tr>\n",
              "      <th>12</th>\n",
              "      <td>농/축협직영매장</td>\n",
              "      <td>14049</td>\n",
              "    </tr>\n",
              "    <tr>\n",
              "      <th>13</th>\n",
              "      <td>약국</td>\n",
              "      <td>13773</td>\n",
              "    </tr>\n",
              "    <tr>\n",
              "      <th>14</th>\n",
              "      <td>제 과 점</td>\n",
              "      <td>9307</td>\n",
              "    </tr>\n",
              "    <tr>\n",
              "      <th>15</th>\n",
              "      <td>기타음료식품</td>\n",
              "      <td>8257</td>\n",
              "    </tr>\n",
              "  </tbody>\n",
              "</table>\n",
              "</div>"
            ],
            "text/plain": [
              "            업종명     거래수\n",
              "0         기타전문점  593682\n",
              "1         편 의 점  351651\n",
              "2         슈퍼 마켓  240242\n",
              "3       인터넷 P/G  204003\n",
              "4        이동통신요금  138781\n",
              "5   구내매점(국가기관등)  119654\n",
              "6            택시  118501\n",
              "7         대형할인점  104098\n",
              "8     인터넷종합Mall   39614\n",
              "9          서양음식   36737\n",
              "10         일반한식   26210\n",
              "11        기타레져업   14540\n",
              "12     농/축협직영매장   14049\n",
              "13           약국   13773\n",
              "14        제 과 점    9307\n",
              "15       기타음료식품    8257"
            ]
          },
          "metadata": {
            "tags": []
          },
          "execution_count": 11
        }
      ]
    },
    {
      "cell_type": "code",
      "metadata": {
        "id": "d-Z298hoIxnu",
        "outputId": "eb4ce9fb-7592-4787-efbe-bdbfbd080b69",
        "colab": {
          "base_uri": "https://localhost:8080/",
          "height": 605
        }
      },
      "source": [
        "plt.figure(figsize=(30,10))\n",
        "\n",
        "plt.plot(chart20['업종명'],chart20['거래수'],color='red',marker='o',label='2020년 거래 수')\n",
        "plt.plot(chart20['업종명'],chart19['거래수'],color='black',marker='o',label='2019년 거래 수')\n",
        "plt.title('2019년과 2020년의 거래량 비교')\n",
        "plt.legend()\n",
        "plt.show()"
      ],
      "execution_count": null,
      "outputs": [
        {
          "output_type": "display_data",
          "data": {
            "image/png": "[encoded data removed]",
            "text/plain": [
              "<Figure size 2160x720 with 1 Axes>"
            ]
          },
          "metadata": {
            "tags": [],
            "needs_background": "light"
          }
        }
      ]
    },
    {
      "cell_type": "code",
      "metadata": {
        "id": "Qj9yuec-KKJI",
        "outputId": "3d22eb97-07ae-4b60-93f4-58adc7772ed6",
        "colab": {
          "base_uri": "https://localhost:8080/",
          "height": 286
        }
      },
      "source": [
        ""
      ],
      "execution_count": null,
      "outputs": [
        {
          "output_type": "stream",
          "text": [
            "(0.0, 1.0)\n"
          ],
          "name": "stdout"
        },
        {
          "output_type": "display_data",
          "data": {
            "image/png": "[encoded data removed]",
            "text/plain": [
              "<Figure size 432x288 with 1 Axes>"
            ]
          },
          "metadata": {
            "tags": [],
            "needs_background": "light"
          }
        }
      ]
    }
  ]
}