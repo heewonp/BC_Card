{
 "cells": [
  {
   "cell_type": "markdown",
   "metadata": {},
   "source": [
    "# 채널별 키워드 확인"
   ]
  },
  {
   "cell_type": "code",
   "execution_count": 1,
   "metadata": {},
   "outputs": [],
   "source": [
    "import pandas as pd\n",
    "import numpy as np\n",
    "import matplotlib.pyplot as plt\n",
    "import seaborn as sns"
   ]
  },
  {
   "cell_type": "code",
   "execution_count": 2,
   "metadata": {},
   "outputs": [],
   "source": [
    "import matplotlib\n",
    "from matplotlib import font_manager, rc\n",
    "import platform\n",
    "if platform.system()==\"Windows\":\n",
    "    font_name=font_manager.FontProperties(fname=\"c:/Windows/Fonts/malgun.ttf\").get_name()\n",
    "    rc('font', family=font_name)\n",
    "matplotlib.rcParams['axes.unicode_minus']=False\n",
    "\n",
    "import warnings\n",
    "warnings.filterwarnings(\"ignore\")"
   ]
  },
  {
   "cell_type": "code",
   "execution_count": 4,
   "metadata": {},
   "outputs": [],
   "source": [
    "file_path = \"D:/BC/2020 금융 빅데이터 챌린지-공모전데이터/\"\n",
    "keword_2019 = pd.read_csv(file_path+'다음소프트/키워드버즈추이_2019.csv',encoding=\"ansi\")\n",
    "keword_2020 = pd.read_csv(file_path+'다음소프트/키워드버즈추이_2020.csv',encoding=\"ansi\")"
   ]
  },
  {
   "cell_type": "markdown",
   "metadata": {},
   "source": [
    "### 2019년도 키워드 버즈 추이"
   ]
  },
  {
   "cell_type": "code",
   "execution_count": 11,
   "metadata": {},
   "outputs": [
    {
     "data": {
      "text/html": [
       "<div>\n",
       "<style scoped>\n",
       "    .dataframe tbody tr th:only-of-type {\n",
       "        vertical-align: middle;\n",
       "    }\n",
       "\n",
       "    .dataframe tbody tr th {\n",
       "        vertical-align: top;\n",
       "    }\n",
       "\n",
       "    .dataframe thead th {\n",
       "        text-align: right;\n",
       "    }\n",
       "</style>\n",
       "<table border=\"1\" class=\"dataframe\">\n",
       "  <thead>\n",
       "    <tr style=\"text-align: right;\">\n",
       "      <th></th>\n",
       "      <th>키워드</th>\n",
       "      <th>기준일자</th>\n",
       "      <th>문서빈도수</th>\n",
       "      <th>채널</th>\n",
       "    </tr>\n",
       "  </thead>\n",
       "  <tbody>\n",
       "    <tr>\n",
       "      <th>0</th>\n",
       "      <td>코로나19</td>\n",
       "      <td>20190501</td>\n",
       "      <td>0</td>\n",
       "      <td>ko.news</td>\n",
       "    </tr>\n",
       "    <tr>\n",
       "      <th>1</th>\n",
       "      <td>코로나19</td>\n",
       "      <td>20190502</td>\n",
       "      <td>0</td>\n",
       "      <td>ko.news</td>\n",
       "    </tr>\n",
       "    <tr>\n",
       "      <th>2</th>\n",
       "      <td>코로나19</td>\n",
       "      <td>20190503</td>\n",
       "      <td>0</td>\n",
       "      <td>ko.news</td>\n",
       "    </tr>\n",
       "    <tr>\n",
       "      <th>3</th>\n",
       "      <td>코로나19</td>\n",
       "      <td>20190504</td>\n",
       "      <td>0</td>\n",
       "      <td>ko.news</td>\n",
       "    </tr>\n",
       "    <tr>\n",
       "      <th>4</th>\n",
       "      <td>코로나19</td>\n",
       "      <td>20190505</td>\n",
       "      <td>0</td>\n",
       "      <td>ko.news</td>\n",
       "    </tr>\n",
       "  </tbody>\n",
       "</table>\n",
       "</div>"
      ],
      "text/plain": [
       "     키워드      기준일자  문서빈도수       채널\n",
       "0  코로나19  20190501      0  ko.news\n",
       "1  코로나19  20190502      0  ko.news\n",
       "2  코로나19  20190503      0  ko.news\n",
       "3  코로나19  20190504      0  ko.news\n",
       "4  코로나19  20190505      0  ko.news"
      ]
     },
     "execution_count": 11,
     "metadata": {},
     "output_type": "execute_result"
    }
   ],
   "source": [
    "keword_2019.head()"
   ]
  },
  {
   "cell_type": "code",
   "execution_count": 69,
   "metadata": {
    "scrolled": true
   },
   "outputs": [
    {
     "data": {
      "text/plain": [
       "<matplotlib.axes._subplots.AxesSubplot at 0x29d43feffa0>"
      ]
     },
     "execution_count": 69,
     "metadata": {},
     "output_type": "execute_result"
    },
    {
     "data": {
      "image/png": "[encoded data removed]",
      "text/plain": [
       "<Figure size 1440x720 with 1 Axes>"
      ]
     },
     "metadata": {
      "needs_background": "light"
     },
     "output_type": "display_data"
    }
   ],
   "source": [
    "fig=plt.figure(figsize=(20,10))\n",
    "sns.barplot(x='키워드', y='문서빈도수', hue=\"채널\", data=keword_2019,\n",
    "           palette=\"PuBuGn\",ci=None)"
   ]
  },
  {
   "cell_type": "markdown",
   "metadata": {},
   "source": [
    "가장 많이 나온 키워드\n",
    "> 마스크, 피시방, 소상공인"
   ]
  },
  {
   "cell_type": "code",
   "execution_count": 91,
   "metadata": {},
   "outputs": [
    {
     "data": {
      "text/html": [
       "<div>\n",
       "<style scoped>\n",
       "    .dataframe tbody tr th:only-of-type {\n",
       "        vertical-align: middle;\n",
       "    }\n",
       "\n",
       "    .dataframe tbody tr th {\n",
       "        vertical-align: top;\n",
       "    }\n",
       "\n",
       "    .dataframe thead th {\n",
       "        text-align: right;\n",
       "    }\n",
       "</style>\n",
       "<table border=\"1\" class=\"dataframe\">\n",
       "  <thead>\n",
       "    <tr style=\"text-align: right;\">\n",
       "      <th></th>\n",
       "      <th>키워드</th>\n",
       "      <th>기준일자</th>\n",
       "      <th>문서빈도수</th>\n",
       "      <th>채널</th>\n",
       "    </tr>\n",
       "  </thead>\n",
       "  <tbody>\n",
       "    <tr>\n",
       "      <th>2344</th>\n",
       "      <td>마스크</td>\n",
       "      <td>20190501</td>\n",
       "      <td>88</td>\n",
       "      <td>ko.news</td>\n",
       "    </tr>\n",
       "    <tr>\n",
       "      <th>2345</th>\n",
       "      <td>마스크</td>\n",
       "      <td>20190502</td>\n",
       "      <td>96</td>\n",
       "      <td>ko.news</td>\n",
       "    </tr>\n",
       "    <tr>\n",
       "      <th>2346</th>\n",
       "      <td>마스크</td>\n",
       "      <td>20190503</td>\n",
       "      <td>117</td>\n",
       "      <td>ko.news</td>\n",
       "    </tr>\n",
       "    <tr>\n",
       "      <th>2347</th>\n",
       "      <td>마스크</td>\n",
       "      <td>20190504</td>\n",
       "      <td>98</td>\n",
       "      <td>ko.news</td>\n",
       "    </tr>\n",
       "    <tr>\n",
       "      <th>2348</th>\n",
       "      <td>마스크</td>\n",
       "      <td>20190505</td>\n",
       "      <td>60</td>\n",
       "      <td>ko.news</td>\n",
       "    </tr>\n",
       "    <tr>\n",
       "      <th>...</th>\n",
       "      <td>...</td>\n",
       "      <td>...</td>\n",
       "      <td>...</td>\n",
       "      <td>...</td>\n",
       "    </tr>\n",
       "    <tr>\n",
       "      <th>2707</th>\n",
       "      <td>마스크</td>\n",
       "      <td>20190727</td>\n",
       "      <td>869</td>\n",
       "      <td>ko.insta</td>\n",
       "    </tr>\n",
       "    <tr>\n",
       "      <th>2708</th>\n",
       "      <td>마스크</td>\n",
       "      <td>20190728</td>\n",
       "      <td>813</td>\n",
       "      <td>ko.insta</td>\n",
       "    </tr>\n",
       "    <tr>\n",
       "      <th>2709</th>\n",
       "      <td>마스크</td>\n",
       "      <td>20190729</td>\n",
       "      <td>972</td>\n",
       "      <td>ko.insta</td>\n",
       "    </tr>\n",
       "    <tr>\n",
       "      <th>2710</th>\n",
       "      <td>마스크</td>\n",
       "      <td>20190730</td>\n",
       "      <td>994</td>\n",
       "      <td>ko.insta</td>\n",
       "    </tr>\n",
       "    <tr>\n",
       "      <th>2711</th>\n",
       "      <td>마스크</td>\n",
       "      <td>20190731</td>\n",
       "      <td>1017</td>\n",
       "      <td>ko.insta</td>\n",
       "    </tr>\n",
       "  </tbody>\n",
       "</table>\n",
       "<p>368 rows × 4 columns</p>\n",
       "</div>"
      ],
      "text/plain": [
       "      키워드      기준일자  문서빈도수        채널\n",
       "2344  마스크  20190501     88   ko.news\n",
       "2345  마스크  20190502     96   ko.news\n",
       "2346  마스크  20190503    117   ko.news\n",
       "2347  마스크  20190504     98   ko.news\n",
       "2348  마스크  20190505     60   ko.news\n",
       "...   ...       ...    ...       ...\n",
       "2707  마스크  20190727    869  ko.insta\n",
       "2708  마스크  20190728    813  ko.insta\n",
       "2709  마스크  20190729    972  ko.insta\n",
       "2710  마스크  20190730    994  ko.insta\n",
       "2711  마스크  20190731   1017  ko.insta\n",
       "\n",
       "[368 rows x 4 columns]"
      ]
     },
     "execution_count": 91,
     "metadata": {},
     "output_type": "execute_result"
    }
   ],
   "source": [
    "mask_data = keword_2019[(keword_2019['키워드']=='마스크') & (keword_2019['채널'] != 'ko.total')]\n",
    "mask_data"
   ]
  },
  {
   "cell_type": "code",
   "execution_count": 70,
   "metadata": {},
   "outputs": [
    {
     "data": {
      "text/plain": [
       "<matplotlib.axes._subplots.AxesSubplot at 0x29d44aefdf0>"
      ]
     },
     "execution_count": 70,
     "metadata": {},
     "output_type": "execute_result"
    },
    {
     "data": {
      "image/png": "[encoded data removed]",
      "text/plain": [
       "<Figure size 2160x720 with 1 Axes>"
      ]
     },
     "metadata": {
      "needs_background": "light"
     },
     "output_type": "display_data"
    }
   ],
   "source": [
    "plt.figure(figsize=(30,10))\n",
    "plt.xticks(rotation=90)\n",
    "sns.barplot(x='기준일자', y='문서빈도수', hue=\"채널\", data=mask_data,\n",
    "           palette=\"PuBuGn\",ci=None)"
   ]
  },
  {
   "cell_type": "code",
   "execution_count": 92,
   "metadata": {},
   "outputs": [
    {
     "data": {
      "text/html": [
       "<div>\n",
       "<style scoped>\n",
       "    .dataframe tbody tr th:only-of-type {\n",
       "        vertical-align: middle;\n",
       "    }\n",
       "\n",
       "    .dataframe tbody tr th {\n",
       "        vertical-align: top;\n",
       "    }\n",
       "\n",
       "    .dataframe thead th {\n",
       "        text-align: right;\n",
       "    }\n",
       "</style>\n",
       "<table border=\"1\" class=\"dataframe\">\n",
       "  <thead>\n",
       "    <tr style=\"text-align: right;\">\n",
       "      <th></th>\n",
       "      <th>키워드</th>\n",
       "      <th>기준일자</th>\n",
       "      <th>문서빈도수</th>\n",
       "      <th>채널</th>\n",
       "    </tr>\n",
       "  </thead>\n",
       "  <tbody>\n",
       "    <tr>\n",
       "      <th>4947</th>\n",
       "      <td>피시방</td>\n",
       "      <td>20190501</td>\n",
       "      <td>41</td>\n",
       "      <td>ko.news</td>\n",
       "    </tr>\n",
       "    <tr>\n",
       "      <th>4948</th>\n",
       "      <td>피시방</td>\n",
       "      <td>20190502</td>\n",
       "      <td>61</td>\n",
       "      <td>ko.news</td>\n",
       "    </tr>\n",
       "    <tr>\n",
       "      <th>4949</th>\n",
       "      <td>피시방</td>\n",
       "      <td>20190503</td>\n",
       "      <td>27</td>\n",
       "      <td>ko.news</td>\n",
       "    </tr>\n",
       "    <tr>\n",
       "      <th>4950</th>\n",
       "      <td>피시방</td>\n",
       "      <td>20190504</td>\n",
       "      <td>12</td>\n",
       "      <td>ko.news</td>\n",
       "    </tr>\n",
       "    <tr>\n",
       "      <th>4951</th>\n",
       "      <td>피시방</td>\n",
       "      <td>20190505</td>\n",
       "      <td>12</td>\n",
       "      <td>ko.news</td>\n",
       "    </tr>\n",
       "    <tr>\n",
       "      <th>...</th>\n",
       "      <td>...</td>\n",
       "      <td>...</td>\n",
       "      <td>...</td>\n",
       "      <td>...</td>\n",
       "    </tr>\n",
       "    <tr>\n",
       "      <th>5310</th>\n",
       "      <td>피시방</td>\n",
       "      <td>20190727</td>\n",
       "      <td>477</td>\n",
       "      <td>ko.insta</td>\n",
       "    </tr>\n",
       "    <tr>\n",
       "      <th>5311</th>\n",
       "      <td>피시방</td>\n",
       "      <td>20190728</td>\n",
       "      <td>551</td>\n",
       "      <td>ko.insta</td>\n",
       "    </tr>\n",
       "    <tr>\n",
       "      <th>5312</th>\n",
       "      <td>피시방</td>\n",
       "      <td>20190729</td>\n",
       "      <td>446</td>\n",
       "      <td>ko.insta</td>\n",
       "    </tr>\n",
       "    <tr>\n",
       "      <th>5313</th>\n",
       "      <td>피시방</td>\n",
       "      <td>20190730</td>\n",
       "      <td>391</td>\n",
       "      <td>ko.insta</td>\n",
       "    </tr>\n",
       "    <tr>\n",
       "      <th>5314</th>\n",
       "      <td>피시방</td>\n",
       "      <td>20190731</td>\n",
       "      <td>416</td>\n",
       "      <td>ko.insta</td>\n",
       "    </tr>\n",
       "  </tbody>\n",
       "</table>\n",
       "<p>368 rows × 4 columns</p>\n",
       "</div>"
      ],
      "text/plain": [
       "      키워드      기준일자  문서빈도수        채널\n",
       "4947  피시방  20190501     41   ko.news\n",
       "4948  피시방  20190502     61   ko.news\n",
       "4949  피시방  20190503     27   ko.news\n",
       "4950  피시방  20190504     12   ko.news\n",
       "4951  피시방  20190505     12   ko.news\n",
       "...   ...       ...    ...       ...\n",
       "5310  피시방  20190727    477  ko.insta\n",
       "5311  피시방  20190728    551  ko.insta\n",
       "5312  피시방  20190729    446  ko.insta\n",
       "5313  피시방  20190730    391  ko.insta\n",
       "5314  피시방  20190731    416  ko.insta\n",
       "\n",
       "[368 rows x 4 columns]"
      ]
     },
     "execution_count": 92,
     "metadata": {},
     "output_type": "execute_result"
    }
   ],
   "source": [
    "pc_data = keword_2019[(keword_2019['키워드']=='피시방')&  (keword_2019['채널'] != 'ko.total')]\n",
    "pc_data"
   ]
  },
  {
   "cell_type": "code",
   "execution_count": 76,
   "metadata": {},
   "outputs": [
    {
     "data": {
      "text/plain": [
       "<matplotlib.axes._subplots.AxesSubplot at 0x29d70e7de20>"
      ]
     },
     "execution_count": 76,
     "metadata": {},
     "output_type": "execute_result"
    },
    {
     "data": {
      "image/png": "[encoded data removed]",
      "text/plain": [
       "<Figure size 2160x720 with 1 Axes>"
      ]
     },
     "metadata": {
      "needs_background": "light"
     },
     "output_type": "display_data"
    }
   ],
   "source": [
    "plt.figure(figsize=(30,10))\n",
    "plt.xticks(rotation=90)\n",
    "sns.barplot(x='기준일자', y='문서빈도수', hue=\"채널\", data=pc_data,\n",
    "           palette=\"PuBuGn\",ci=None)"
   ]
  },
  {
   "cell_type": "code",
   "execution_count": 93,
   "metadata": {},
   "outputs": [
    {
     "data": {
      "text/html": [
       "<div>\n",
       "<style scoped>\n",
       "    .dataframe tbody tr th:only-of-type {\n",
       "        vertical-align: middle;\n",
       "    }\n",
       "\n",
       "    .dataframe tbody tr th {\n",
       "        vertical-align: top;\n",
       "    }\n",
       "\n",
       "    .dataframe thead th {\n",
       "        text-align: right;\n",
       "    }\n",
       "</style>\n",
       "<table border=\"1\" class=\"dataframe\">\n",
       "  <thead>\n",
       "    <tr style=\"text-align: right;\">\n",
       "      <th></th>\n",
       "      <th>키워드</th>\n",
       "      <th>기준일자</th>\n",
       "      <th>문서빈도수</th>\n",
       "      <th>채널</th>\n",
       "    </tr>\n",
       "  </thead>\n",
       "  <tbody>\n",
       "    <tr>\n",
       "      <th>4115</th>\n",
       "      <td>소상공인</td>\n",
       "      <td>20190501</td>\n",
       "      <td>135</td>\n",
       "      <td>ko.news</td>\n",
       "    </tr>\n",
       "    <tr>\n",
       "      <th>4116</th>\n",
       "      <td>소상공인</td>\n",
       "      <td>20190502</td>\n",
       "      <td>158</td>\n",
       "      <td>ko.news</td>\n",
       "    </tr>\n",
       "    <tr>\n",
       "      <th>4117</th>\n",
       "      <td>소상공인</td>\n",
       "      <td>20190503</td>\n",
       "      <td>98</td>\n",
       "      <td>ko.news</td>\n",
       "    </tr>\n",
       "    <tr>\n",
       "      <th>4118</th>\n",
       "      <td>소상공인</td>\n",
       "      <td>20190504</td>\n",
       "      <td>23</td>\n",
       "      <td>ko.news</td>\n",
       "    </tr>\n",
       "    <tr>\n",
       "      <th>4119</th>\n",
       "      <td>소상공인</td>\n",
       "      <td>20190505</td>\n",
       "      <td>22</td>\n",
       "      <td>ko.news</td>\n",
       "    </tr>\n",
       "    <tr>\n",
       "      <th>...</th>\n",
       "      <td>...</td>\n",
       "      <td>...</td>\n",
       "      <td>...</td>\n",
       "      <td>...</td>\n",
       "    </tr>\n",
       "    <tr>\n",
       "      <th>4478</th>\n",
       "      <td>소상공인</td>\n",
       "      <td>20190727</td>\n",
       "      <td>55</td>\n",
       "      <td>ko.insta</td>\n",
       "    </tr>\n",
       "    <tr>\n",
       "      <th>4479</th>\n",
       "      <td>소상공인</td>\n",
       "      <td>20190728</td>\n",
       "      <td>37</td>\n",
       "      <td>ko.insta</td>\n",
       "    </tr>\n",
       "    <tr>\n",
       "      <th>4480</th>\n",
       "      <td>소상공인</td>\n",
       "      <td>20190729</td>\n",
       "      <td>76</td>\n",
       "      <td>ko.insta</td>\n",
       "    </tr>\n",
       "    <tr>\n",
       "      <th>4481</th>\n",
       "      <td>소상공인</td>\n",
       "      <td>20190730</td>\n",
       "      <td>117</td>\n",
       "      <td>ko.insta</td>\n",
       "    </tr>\n",
       "    <tr>\n",
       "      <th>4482</th>\n",
       "      <td>소상공인</td>\n",
       "      <td>20190731</td>\n",
       "      <td>123</td>\n",
       "      <td>ko.insta</td>\n",
       "    </tr>\n",
       "  </tbody>\n",
       "</table>\n",
       "<p>368 rows × 4 columns</p>\n",
       "</div>"
      ],
      "text/plain": [
       "       키워드      기준일자  문서빈도수        채널\n",
       "4115  소상공인  20190501    135   ko.news\n",
       "4116  소상공인  20190502    158   ko.news\n",
       "4117  소상공인  20190503     98   ko.news\n",
       "4118  소상공인  20190504     23   ko.news\n",
       "4119  소상공인  20190505     22   ko.news\n",
       "...    ...       ...    ...       ...\n",
       "4478  소상공인  20190727     55  ko.insta\n",
       "4479  소상공인  20190728     37  ko.insta\n",
       "4480  소상공인  20190729     76  ko.insta\n",
       "4481  소상공인  20190730    117  ko.insta\n",
       "4482  소상공인  20190731    123  ko.insta\n",
       "\n",
       "[368 rows x 4 columns]"
      ]
     },
     "execution_count": 93,
     "metadata": {},
     "output_type": "execute_result"
    }
   ],
   "source": [
    "store_data = keword_2019[(keword_2019['키워드']=='소상공인')& (keword_2019['채널'] != 'ko.total')]\n",
    "store_data"
   ]
  },
  {
   "cell_type": "code",
   "execution_count": 78,
   "metadata": {},
   "outputs": [
    {
     "data": {
      "text/plain": [
       "<matplotlib.axes._subplots.AxesSubplot at 0x29d7280cf40>"
      ]
     },
     "execution_count": 78,
     "metadata": {},
     "output_type": "execute_result"
    },
    {
     "data": {
      "image/png": "[encoded data removed]",
      "text/plain": [
       "<Figure size 2160x720 with 1 Axes>"
      ]
     },
     "metadata": {
      "needs_background": "light"
     },
     "output_type": "display_data"
    }
   ],
   "source": [
    "plt.figure(figsize=(30,10))\n",
    "plt.xticks(rotation=90)\n",
    "sns.barplot(x='기준일자', y='문서빈도수', hue=\"채널\", data=store_data,\n",
    "           palette=\"PuBuGn\",ci=None)"
   ]
  },
  {
   "cell_type": "markdown",
   "metadata": {},
   "source": [
    "### 2020년도 키워드 버즈추이"
   ]
  },
  {
   "cell_type": "code",
   "execution_count": 4,
   "metadata": {},
   "outputs": [
    {
     "data": {
      "text/html": [
       "<div>\n",
       "<style scoped>\n",
       "    .dataframe tbody tr th:only-of-type {\n",
       "        vertical-align: middle;\n",
       "    }\n",
       "\n",
       "    .dataframe tbody tr th {\n",
       "        vertical-align: top;\n",
       "    }\n",
       "\n",
       "    .dataframe thead th {\n",
       "        text-align: right;\n",
       "    }\n",
       "</style>\n",
       "<table border=\"1\" class=\"dataframe\">\n",
       "  <thead>\n",
       "    <tr style=\"text-align: right;\">\n",
       "      <th></th>\n",
       "      <th>키워드</th>\n",
       "      <th>기준일자</th>\n",
       "      <th>문서빈도수</th>\n",
       "      <th>채널</th>\n",
       "    </tr>\n",
       "  </thead>\n",
       "  <tbody>\n",
       "    <tr>\n",
       "      <th>0</th>\n",
       "      <td>코로나19</td>\n",
       "      <td>20200501</td>\n",
       "      <td>4641</td>\n",
       "      <td>ko.news</td>\n",
       "    </tr>\n",
       "    <tr>\n",
       "      <th>1</th>\n",
       "      <td>코로나19</td>\n",
       "      <td>20200502</td>\n",
       "      <td>2205</td>\n",
       "      <td>ko.news</td>\n",
       "    </tr>\n",
       "    <tr>\n",
       "      <th>2</th>\n",
       "      <td>코로나19</td>\n",
       "      <td>20200503</td>\n",
       "      <td>3190</td>\n",
       "      <td>ko.news</td>\n",
       "    </tr>\n",
       "    <tr>\n",
       "      <th>3</th>\n",
       "      <td>코로나19</td>\n",
       "      <td>20200504</td>\n",
       "      <td>6677</td>\n",
       "      <td>ko.news</td>\n",
       "    </tr>\n",
       "    <tr>\n",
       "      <th>4</th>\n",
       "      <td>코로나19</td>\n",
       "      <td>20200505</td>\n",
       "      <td>4665</td>\n",
       "      <td>ko.news</td>\n",
       "    </tr>\n",
       "  </tbody>\n",
       "</table>\n",
       "</div>"
      ],
      "text/plain": [
       "     키워드      기준일자  문서빈도수       채널\n",
       "0  코로나19  20200501   4641  ko.news\n",
       "1  코로나19  20200502   2205  ko.news\n",
       "2  코로나19  20200503   3190  ko.news\n",
       "3  코로나19  20200504   6677  ko.news\n",
       "4  코로나19  20200505   4665  ko.news"
      ]
     },
     "execution_count": 4,
     "metadata": {},
     "output_type": "execute_result"
    }
   ],
   "source": [
    "keword_2020.head()"
   ]
  },
  {
   "cell_type": "code",
   "execution_count": 5,
   "metadata": {},
   "outputs": [
    {
     "data": {
      "text/plain": [
       "<matplotlib.axes._subplots.AxesSubplot at 0x24104c06b50>"
      ]
     },
     "execution_count": 5,
     "metadata": {},
     "output_type": "execute_result"
    },
    {
     "data": {
      "image/png": "[encoded data removed]",
      "text/plain": [
       "<Figure size 1440x720 with 1 Axes>"
      ]
     },
     "metadata": {
      "needs_background": "light"
     },
     "output_type": "display_data"
    }
   ],
   "source": [
    "fig=plt.figure(figsize=(20,10))\n",
    "sns.barplot(x='키워드', y='문서빈도수', hue=\"채널\", data=keword_2020,\n",
    "           palette=\"PuBuGn\",ci=None)"
   ]
  },
  {
   "cell_type": "markdown",
   "metadata": {},
   "source": [
    "가장 많이 나온 키워드\n",
    "> 마스크, 코로나19,사회적거리두기"
   ]
  },
  {
   "cell_type": "code",
   "execution_count": 94,
   "metadata": {},
   "outputs": [
    {
     "data": {
      "text/html": [
       "<div>\n",
       "<style scoped>\n",
       "    .dataframe tbody tr th:only-of-type {\n",
       "        vertical-align: middle;\n",
       "    }\n",
       "\n",
       "    .dataframe tbody tr th {\n",
       "        vertical-align: top;\n",
       "    }\n",
       "\n",
       "    .dataframe thead th {\n",
       "        text-align: right;\n",
       "    }\n",
       "</style>\n",
       "<table border=\"1\" class=\"dataframe\">\n",
       "  <thead>\n",
       "    <tr style=\"text-align: right;\">\n",
       "      <th></th>\n",
       "      <th>키워드</th>\n",
       "      <th>기준일자</th>\n",
       "      <th>문서빈도수</th>\n",
       "      <th>채널</th>\n",
       "    </tr>\n",
       "  </thead>\n",
       "  <tbody>\n",
       "    <tr>\n",
       "      <th>2741</th>\n",
       "      <td>마스크</td>\n",
       "      <td>20200501</td>\n",
       "      <td>708</td>\n",
       "      <td>ko.news</td>\n",
       "    </tr>\n",
       "    <tr>\n",
       "      <th>2742</th>\n",
       "      <td>마스크</td>\n",
       "      <td>20200502</td>\n",
       "      <td>431</td>\n",
       "      <td>ko.news</td>\n",
       "    </tr>\n",
       "    <tr>\n",
       "      <th>2743</th>\n",
       "      <td>마스크</td>\n",
       "      <td>20200503</td>\n",
       "      <td>513</td>\n",
       "      <td>ko.news</td>\n",
       "    </tr>\n",
       "    <tr>\n",
       "      <th>2744</th>\n",
       "      <td>마스크</td>\n",
       "      <td>20200504</td>\n",
       "      <td>1304</td>\n",
       "      <td>ko.news</td>\n",
       "    </tr>\n",
       "    <tr>\n",
       "      <th>2745</th>\n",
       "      <td>마스크</td>\n",
       "      <td>20200505</td>\n",
       "      <td>1020</td>\n",
       "      <td>ko.news</td>\n",
       "    </tr>\n",
       "    <tr>\n",
       "      <th>...</th>\n",
       "      <td>...</td>\n",
       "      <td>...</td>\n",
       "      <td>...</td>\n",
       "      <td>...</td>\n",
       "    </tr>\n",
       "    <tr>\n",
       "      <th>3104</th>\n",
       "      <td>마스크</td>\n",
       "      <td>20200727</td>\n",
       "      <td>8992</td>\n",
       "      <td>ko.insta</td>\n",
       "    </tr>\n",
       "    <tr>\n",
       "      <th>3105</th>\n",
       "      <td>마스크</td>\n",
       "      <td>20200728</td>\n",
       "      <td>8950</td>\n",
       "      <td>ko.insta</td>\n",
       "    </tr>\n",
       "    <tr>\n",
       "      <th>3106</th>\n",
       "      <td>마스크</td>\n",
       "      <td>20200729</td>\n",
       "      <td>9053</td>\n",
       "      <td>ko.insta</td>\n",
       "    </tr>\n",
       "    <tr>\n",
       "      <th>3107</th>\n",
       "      <td>마스크</td>\n",
       "      <td>20200730</td>\n",
       "      <td>9530</td>\n",
       "      <td>ko.insta</td>\n",
       "    </tr>\n",
       "    <tr>\n",
       "      <th>3108</th>\n",
       "      <td>마스크</td>\n",
       "      <td>20200731</td>\n",
       "      <td>9841</td>\n",
       "      <td>ko.insta</td>\n",
       "    </tr>\n",
       "  </tbody>\n",
       "</table>\n",
       "<p>368 rows × 4 columns</p>\n",
       "</div>"
      ],
      "text/plain": [
       "      키워드      기준일자  문서빈도수        채널\n",
       "2741  마스크  20200501    708   ko.news\n",
       "2742  마스크  20200502    431   ko.news\n",
       "2743  마스크  20200503    513   ko.news\n",
       "2744  마스크  20200504   1304   ko.news\n",
       "2745  마스크  20200505   1020   ko.news\n",
       "...   ...       ...    ...       ...\n",
       "3104  마스크  20200727   8992  ko.insta\n",
       "3105  마스크  20200728   8950  ko.insta\n",
       "3106  마스크  20200729   9053  ko.insta\n",
       "3107  마스크  20200730   9530  ko.insta\n",
       "3108  마스크  20200731   9841  ko.insta\n",
       "\n",
       "[368 rows x 4 columns]"
      ]
     },
     "execution_count": 94,
     "metadata": {},
     "output_type": "execute_result"
    }
   ],
   "source": [
    "mask_data20 = keword_2020[(keword_2020['키워드']=='마스크') & (keword_2020['채널']!='ko.total')]\n",
    "mask_data20"
   ]
  },
  {
   "cell_type": "code",
   "execution_count": 95,
   "metadata": {},
   "outputs": [
    {
     "data": {
      "text/plain": [
       "<matplotlib.axes._subplots.AxesSubplot at 0x1d5845b17f0>"
      ]
     },
     "execution_count": 95,
     "metadata": {},
     "output_type": "execute_result"
    },
    {
     "data": {
      "image/png": "[encoded data removed]",
      "text/plain": [
       "<Figure size 2160x720 with 1 Axes>"
      ]
     },
     "metadata": {
      "needs_background": "light"
     },
     "output_type": "display_data"
    }
   ],
   "source": [
    "plt.figure(figsize=(30,10))\n",
    "plt.xticks(rotation=90)\n",
    "sns.barplot(x='기준일자', y='문서빈도수', hue=\"채널\", data=mask_data20,\n",
    "           palette=\"PuBuGn\",ci=None)"
   ]
  },
  {
   "cell_type": "code",
   "execution_count": 96,
   "metadata": {},
   "outputs": [
    {
     "data": {
      "text/html": [
       "<div>\n",
       "<style scoped>\n",
       "    .dataframe tbody tr th:only-of-type {\n",
       "        vertical-align: middle;\n",
       "    }\n",
       "\n",
       "    .dataframe tbody tr th {\n",
       "        vertical-align: top;\n",
       "    }\n",
       "\n",
       "    .dataframe thead th {\n",
       "        text-align: right;\n",
       "    }\n",
       "</style>\n",
       "<table border=\"1\" class=\"dataframe\">\n",
       "  <thead>\n",
       "    <tr style=\"text-align: right;\">\n",
       "      <th></th>\n",
       "      <th>키워드</th>\n",
       "      <th>기준일자</th>\n",
       "      <th>문서빈도수</th>\n",
       "      <th>채널</th>\n",
       "    </tr>\n",
       "  </thead>\n",
       "  <tbody>\n",
       "    <tr>\n",
       "      <th>0</th>\n",
       "      <td>코로나19</td>\n",
       "      <td>20200501</td>\n",
       "      <td>4641</td>\n",
       "      <td>ko.news</td>\n",
       "    </tr>\n",
       "    <tr>\n",
       "      <th>1</th>\n",
       "      <td>코로나19</td>\n",
       "      <td>20200502</td>\n",
       "      <td>2205</td>\n",
       "      <td>ko.news</td>\n",
       "    </tr>\n",
       "    <tr>\n",
       "      <th>2</th>\n",
       "      <td>코로나19</td>\n",
       "      <td>20200503</td>\n",
       "      <td>3190</td>\n",
       "      <td>ko.news</td>\n",
       "    </tr>\n",
       "    <tr>\n",
       "      <th>3</th>\n",
       "      <td>코로나19</td>\n",
       "      <td>20200504</td>\n",
       "      <td>6677</td>\n",
       "      <td>ko.news</td>\n",
       "    </tr>\n",
       "    <tr>\n",
       "      <th>4</th>\n",
       "      <td>코로나19</td>\n",
       "      <td>20200505</td>\n",
       "      <td>4665</td>\n",
       "      <td>ko.news</td>\n",
       "    </tr>\n",
       "    <tr>\n",
       "      <th>...</th>\n",
       "      <td>...</td>\n",
       "      <td>...</td>\n",
       "      <td>...</td>\n",
       "      <td>...</td>\n",
       "    </tr>\n",
       "    <tr>\n",
       "      <th>363</th>\n",
       "      <td>코로나19</td>\n",
       "      <td>20200727</td>\n",
       "      <td>2763</td>\n",
       "      <td>ko.insta</td>\n",
       "    </tr>\n",
       "    <tr>\n",
       "      <th>364</th>\n",
       "      <td>코로나19</td>\n",
       "      <td>20200728</td>\n",
       "      <td>3074</td>\n",
       "      <td>ko.insta</td>\n",
       "    </tr>\n",
       "    <tr>\n",
       "      <th>365</th>\n",
       "      <td>코로나19</td>\n",
       "      <td>20200729</td>\n",
       "      <td>2965</td>\n",
       "      <td>ko.insta</td>\n",
       "    </tr>\n",
       "    <tr>\n",
       "      <th>366</th>\n",
       "      <td>코로나19</td>\n",
       "      <td>20200730</td>\n",
       "      <td>2777</td>\n",
       "      <td>ko.insta</td>\n",
       "    </tr>\n",
       "    <tr>\n",
       "      <th>367</th>\n",
       "      <td>코로나19</td>\n",
       "      <td>20200731</td>\n",
       "      <td>3010</td>\n",
       "      <td>ko.insta</td>\n",
       "    </tr>\n",
       "  </tbody>\n",
       "</table>\n",
       "<p>368 rows × 4 columns</p>\n",
       "</div>"
      ],
      "text/plain": [
       "       키워드      기준일자  문서빈도수        채널\n",
       "0    코로나19  20200501   4641   ko.news\n",
       "1    코로나19  20200502   2205   ko.news\n",
       "2    코로나19  20200503   3190   ko.news\n",
       "3    코로나19  20200504   6677   ko.news\n",
       "4    코로나19  20200505   4665   ko.news\n",
       "..     ...       ...    ...       ...\n",
       "363  코로나19  20200727   2763  ko.insta\n",
       "364  코로나19  20200728   3074  ko.insta\n",
       "365  코로나19  20200729   2965  ko.insta\n",
       "366  코로나19  20200730   2777  ko.insta\n",
       "367  코로나19  20200731   3010  ko.insta\n",
       "\n",
       "[368 rows x 4 columns]"
      ]
     },
     "execution_count": 96,
     "metadata": {},
     "output_type": "execute_result"
    }
   ],
   "source": [
    "corona_data20 = keword_2020[(keword_2020['키워드']=='코로나19') & (keword_2020['채널']!='ko.total')]\n",
    "corona_data20"
   ]
  },
  {
   "cell_type": "code",
   "execution_count": 97,
   "metadata": {},
   "outputs": [
    {
     "data": {
      "text/plain": [
       "<matplotlib.axes._subplots.AxesSubplot at 0x1d584a665b0>"
      ]
     },
     "execution_count": 97,
     "metadata": {},
     "output_type": "execute_result"
    },
    {
     "data": {
      "image/png": "[encoded data removed]",
      "text/plain": [
       "<Figure size 2160x720 with 1 Axes>"
      ]
     },
     "metadata": {
      "needs_background": "light"
     },
     "output_type": "display_data"
    }
   ],
   "source": [
    "plt.figure(figsize=(30,10))\n",
    "plt.xticks(rotation=90)\n",
    "sns.barplot(x='기준일자', y='문서빈도수', hue=\"채널\", data=corona_data20,\n",
    "           palette=\"PuBuGn\",ci=None)"
   ]
  },
  {
   "cell_type": "code",
   "execution_count": null,
   "metadata": {},
   "outputs": [],
   "source": [
    "corona_data20 = keword_2020[(keword_2020['키워드']=='코로나19') & (keword_2020['채널']!='ko.total')]\n",
    "corona_data20"
   ]
  },
  {
   "cell_type": "code",
   "execution_count": 99,
   "metadata": {},
   "outputs": [
    {
     "data": {
      "text/html": [
       "<div>\n",
       "<style scoped>\n",
       "    .dataframe tbody tr th:only-of-type {\n",
       "        vertical-align: middle;\n",
       "    }\n",
       "\n",
       "    .dataframe tbody tr th {\n",
       "        vertical-align: top;\n",
       "    }\n",
       "\n",
       "    .dataframe thead th {\n",
       "        text-align: right;\n",
       "    }\n",
       "</style>\n",
       "<table border=\"1\" class=\"dataframe\">\n",
       "  <thead>\n",
       "    <tr style=\"text-align: right;\">\n",
       "      <th></th>\n",
       "      <th>키워드</th>\n",
       "      <th>기준일자</th>\n",
       "      <th>문서빈도수</th>\n",
       "      <th>채널</th>\n",
       "    </tr>\n",
       "  </thead>\n",
       "  <tbody>\n",
       "    <tr>\n",
       "      <th>1380</th>\n",
       "      <td>사회적거리두기</td>\n",
       "      <td>20200501</td>\n",
       "      <td>760</td>\n",
       "      <td>ko.news</td>\n",
       "    </tr>\n",
       "    <tr>\n",
       "      <th>1381</th>\n",
       "      <td>사회적거리두기</td>\n",
       "      <td>20200502</td>\n",
       "      <td>342</td>\n",
       "      <td>ko.news</td>\n",
       "    </tr>\n",
       "    <tr>\n",
       "      <th>1382</th>\n",
       "      <td>사회적거리두기</td>\n",
       "      <td>20200503</td>\n",
       "      <td>633</td>\n",
       "      <td>ko.news</td>\n",
       "    </tr>\n",
       "    <tr>\n",
       "      <th>1383</th>\n",
       "      <td>사회적거리두기</td>\n",
       "      <td>20200504</td>\n",
       "      <td>1062</td>\n",
       "      <td>ko.news</td>\n",
       "    </tr>\n",
       "    <tr>\n",
       "      <th>1384</th>\n",
       "      <td>사회적거리두기</td>\n",
       "      <td>20200505</td>\n",
       "      <td>735</td>\n",
       "      <td>ko.news</td>\n",
       "    </tr>\n",
       "    <tr>\n",
       "      <th>...</th>\n",
       "      <td>...</td>\n",
       "      <td>...</td>\n",
       "      <td>...</td>\n",
       "      <td>...</td>\n",
       "    </tr>\n",
       "    <tr>\n",
       "      <th>1743</th>\n",
       "      <td>사회적거리두기</td>\n",
       "      <td>20200727</td>\n",
       "      <td>444</td>\n",
       "      <td>ko.insta</td>\n",
       "    </tr>\n",
       "    <tr>\n",
       "      <th>1744</th>\n",
       "      <td>사회적거리두기</td>\n",
       "      <td>20200728</td>\n",
       "      <td>406</td>\n",
       "      <td>ko.insta</td>\n",
       "    </tr>\n",
       "    <tr>\n",
       "      <th>1745</th>\n",
       "      <td>사회적거리두기</td>\n",
       "      <td>20200729</td>\n",
       "      <td>425</td>\n",
       "      <td>ko.insta</td>\n",
       "    </tr>\n",
       "    <tr>\n",
       "      <th>1746</th>\n",
       "      <td>사회적거리두기</td>\n",
       "      <td>20200730</td>\n",
       "      <td>418</td>\n",
       "      <td>ko.insta</td>\n",
       "    </tr>\n",
       "    <tr>\n",
       "      <th>1747</th>\n",
       "      <td>사회적거리두기</td>\n",
       "      <td>20200731</td>\n",
       "      <td>481</td>\n",
       "      <td>ko.insta</td>\n",
       "    </tr>\n",
       "  </tbody>\n",
       "</table>\n",
       "<p>368 rows × 4 columns</p>\n",
       "</div>"
      ],
      "text/plain": [
       "          키워드      기준일자  문서빈도수        채널\n",
       "1380  사회적거리두기  20200501    760   ko.news\n",
       "1381  사회적거리두기  20200502    342   ko.news\n",
       "1382  사회적거리두기  20200503    633   ko.news\n",
       "1383  사회적거리두기  20200504   1062   ko.news\n",
       "1384  사회적거리두기  20200505    735   ko.news\n",
       "...       ...       ...    ...       ...\n",
       "1743  사회적거리두기  20200727    444  ko.insta\n",
       "1744  사회적거리두기  20200728    406  ko.insta\n",
       "1745  사회적거리두기  20200729    425  ko.insta\n",
       "1746  사회적거리두기  20200730    418  ko.insta\n",
       "1747  사회적거리두기  20200731    481  ko.insta\n",
       "\n",
       "[368 rows x 4 columns]"
      ]
     },
     "execution_count": 99,
     "metadata": {},
     "output_type": "execute_result"
    }
   ],
   "source": [
    "distance_data20=keword_2020[(keword_2020['키워드']=='사회적거리두기') & (keword_2020['채널']!='ko.total')]\n",
    "distance_data20"
   ]
  },
  {
   "cell_type": "code",
   "execution_count": 100,
   "metadata": {},
   "outputs": [
    {
     "data": {
      "text/plain": [
       "<matplotlib.axes._subplots.AxesSubplot at 0x1d5845f8760>"
      ]
     },
     "execution_count": 100,
     "metadata": {},
     "output_type": "execute_result"
    },
    {
     "data": {
      "image/png": "[encoded data removed]",
      "text/plain": [
       "<Figure size 2160x720 with 1 Axes>"
      ]
     },
     "metadata": {
      "needs_background": "light"
     },
     "output_type": "display_data"
    }
   ],
   "source": [
    "plt.figure(figsize=(30,10))\n",
    "plt.xticks(rotation=90)\n",
    "sns.barplot(x='기준일자', y='문서빈도수', hue=\"채널\", data=distance_data20,\n",
    "           palette=\"PuBuGn\",ci=None)"
   ]
  },
  {
   "cell_type": "code",
   "execution_count": 71,
   "metadata": {},
   "outputs": [],
   "source": [
    "words_2019 = pd.read_csv(file_path+'다음소프트/연관어_2019.csv',encoding=\"ansi\")\n",
    "words_2020 = pd.read_csv(file_path+'다음소프트/연관어_2020.csv',encoding=\"ansi\")"
   ]
  },
  {
   "cell_type": "code",
   "execution_count": 72,
   "metadata": {},
   "outputs": [
    {
     "data": {
      "text/html": [
       "<div>\n",
       "<style scoped>\n",
       "    .dataframe tbody tr th:only-of-type {\n",
       "        vertical-align: middle;\n",
       "    }\n",
       "\n",
       "    .dataframe tbody tr th {\n",
       "        vertical-align: top;\n",
       "    }\n",
       "\n",
       "    .dataframe thead th {\n",
       "        text-align: right;\n",
       "    }\n",
       "</style>\n",
       "<table border=\"1\" class=\"dataframe\">\n",
       "  <thead>\n",
       "    <tr style=\"text-align: right;\">\n",
       "      <th></th>\n",
       "      <th>키워드</th>\n",
       "      <th>기준일자</th>\n",
       "      <th>연관어</th>\n",
       "      <th>문서빈도수</th>\n",
       "      <th>채널</th>\n",
       "    </tr>\n",
       "  </thead>\n",
       "  <tbody>\n",
       "    <tr>\n",
       "      <th>0</th>\n",
       "      <td>코로나백신</td>\n",
       "      <td>20190502</td>\n",
       "      <td>농림부</td>\n",
       "      <td>3</td>\n",
       "      <td>ko.blog</td>\n",
       "    </tr>\n",
       "    <tr>\n",
       "      <th>1</th>\n",
       "      <td>코로나백신</td>\n",
       "      <td>20190502</td>\n",
       "      <td>코로나</td>\n",
       "      <td>3</td>\n",
       "      <td>ko.blog</td>\n",
       "    </tr>\n",
       "    <tr>\n",
       "      <th>2</th>\n",
       "      <td>코로나백신</td>\n",
       "      <td>20190502</td>\n",
       "      <td>백신</td>\n",
       "      <td>3</td>\n",
       "      <td>ko.blog</td>\n",
       "    </tr>\n",
       "    <tr>\n",
       "      <th>3</th>\n",
       "      <td>코로나백신</td>\n",
       "      <td>20190502</td>\n",
       "      <td>접종</td>\n",
       "      <td>3</td>\n",
       "      <td>ko.blog</td>\n",
       "    </tr>\n",
       "    <tr>\n",
       "      <th>4</th>\n",
       "      <td>코로나백신</td>\n",
       "      <td>20190502</td>\n",
       "      <td>hp</td>\n",
       "      <td>3</td>\n",
       "      <td>ko.blog</td>\n",
       "    </tr>\n",
       "  </tbody>\n",
       "</table>\n",
       "</div>"
      ],
      "text/plain": [
       "     키워드      기준일자  연관어  문서빈도수       채널\n",
       "0  코로나백신  20190502  농림부      3  ko.blog\n",
       "1  코로나백신  20190502  코로나      3  ko.blog\n",
       "2  코로나백신  20190502   백신      3  ko.blog\n",
       "3  코로나백신  20190502   접종      3  ko.blog\n",
       "4  코로나백신  20190502   hp      3  ko.blog"
      ]
     },
     "execution_count": 72,
     "metadata": {},
     "output_type": "execute_result"
    }
   ],
   "source": [
    "words_2019.head()"
   ]
  },
  {
   "cell_type": "code",
   "execution_count": 57,
   "metadata": {},
   "outputs": [
    {
     "data": {
      "text/html": [
       "<div>\n",
       "<style scoped>\n",
       "    .dataframe tbody tr th:only-of-type {\n",
       "        vertical-align: middle;\n",
       "    }\n",
       "\n",
       "    .dataframe tbody tr th {\n",
       "        vertical-align: top;\n",
       "    }\n",
       "\n",
       "    .dataframe thead th {\n",
       "        text-align: right;\n",
       "    }\n",
       "</style>\n",
       "<table border=\"1\" class=\"dataframe\">\n",
       "  <thead>\n",
       "    <tr style=\"text-align: right;\">\n",
       "      <th></th>\n",
       "      <th>키워드</th>\n",
       "      <th>기준일자</th>\n",
       "      <th>연관어</th>\n",
       "      <th>문서빈도수</th>\n",
       "      <th>채널</th>\n",
       "    </tr>\n",
       "  </thead>\n",
       "  <tbody>\n",
       "    <tr>\n",
       "      <th>0</th>\n",
       "      <td>코로나19</td>\n",
       "      <td>20200501</td>\n",
       "      <td>코로나</td>\n",
       "      <td>4138</td>\n",
       "      <td>ko.news</td>\n",
       "    </tr>\n",
       "    <tr>\n",
       "      <th>1</th>\n",
       "      <td>코로나19</td>\n",
       "      <td>20200501</td>\n",
       "      <td>바이러스</td>\n",
       "      <td>1636</td>\n",
       "      <td>ko.news</td>\n",
       "    </tr>\n",
       "    <tr>\n",
       "      <th>2</th>\n",
       "      <td>코로나19</td>\n",
       "      <td>20200501</td>\n",
       "      <td>코로나바이러스</td>\n",
       "      <td>1481</td>\n",
       "      <td>ko.news</td>\n",
       "    </tr>\n",
       "    <tr>\n",
       "      <th>3</th>\n",
       "      <td>코로나19</td>\n",
       "      <td>20200501</td>\n",
       "      <td>감염증</td>\n",
       "      <td>1437</td>\n",
       "      <td>ko.news</td>\n",
       "    </tr>\n",
       "    <tr>\n",
       "      <th>4</th>\n",
       "      <td>코로나19</td>\n",
       "      <td>20200501</td>\n",
       "      <td>서울</td>\n",
       "      <td>1415</td>\n",
       "      <td>ko.news</td>\n",
       "    </tr>\n",
       "  </tbody>\n",
       "</table>\n",
       "</div>"
      ],
      "text/plain": [
       "     키워드      기준일자      연관어  문서빈도수       채널\n",
       "0  코로나19  20200501      코로나   4138  ko.news\n",
       "1  코로나19  20200501     바이러스   1636  ko.news\n",
       "2  코로나19  20200501  코로나바이러스   1481  ko.news\n",
       "3  코로나19  20200501      감염증   1437  ko.news\n",
       "4  코로나19  20200501       서울   1415  ko.news"
      ]
     },
     "execution_count": 57,
     "metadata": {},
     "output_type": "execute_result"
    }
   ],
   "source": [
    "words_2020.head()"
   ]
  },
  {
   "cell_type": "code",
   "execution_count": 73,
   "metadata": {},
   "outputs": [
    {
     "data": {
      "text/html": [
       "<div>\n",
       "<style scoped>\n",
       "    .dataframe tbody tr th:only-of-type {\n",
       "        vertical-align: middle;\n",
       "    }\n",
       "\n",
       "    .dataframe tbody tr th {\n",
       "        vertical-align: top;\n",
       "    }\n",
       "\n",
       "    .dataframe thead th {\n",
       "        text-align: right;\n",
       "    }\n",
       "</style>\n",
       "<table border=\"1\" class=\"dataframe\">\n",
       "  <thead>\n",
       "    <tr style=\"text-align: right;\">\n",
       "      <th></th>\n",
       "      <th>키워드</th>\n",
       "      <th>기준일자</th>\n",
       "      <th>연관어</th>\n",
       "      <th>문서빈도수</th>\n",
       "      <th>채널</th>\n",
       "    </tr>\n",
       "  </thead>\n",
       "  <tbody>\n",
       "    <tr>\n",
       "      <th>15178</th>\n",
       "      <td>마스크</td>\n",
       "      <td>20190501</td>\n",
       "      <td>먼지</td>\n",
       "      <td>27</td>\n",
       "      <td>ko.news</td>\n",
       "    </tr>\n",
       "    <tr>\n",
       "      <th>15179</th>\n",
       "      <td>마스크</td>\n",
       "      <td>20190501</td>\n",
       "      <td>미세먼지</td>\n",
       "      <td>27</td>\n",
       "      <td>ko.news</td>\n",
       "    </tr>\n",
       "    <tr>\n",
       "      <th>15180</th>\n",
       "      <td>마스크</td>\n",
       "      <td>20190501</td>\n",
       "      <td>뉴스</td>\n",
       "      <td>24</td>\n",
       "      <td>ko.news</td>\n",
       "    </tr>\n",
       "    <tr>\n",
       "      <th>15181</th>\n",
       "      <td>마스크</td>\n",
       "      <td>20190501</td>\n",
       "      <td>공기</td>\n",
       "      <td>22</td>\n",
       "      <td>ko.news</td>\n",
       "    </tr>\n",
       "    <tr>\n",
       "      <th>15182</th>\n",
       "      <td>마스크</td>\n",
       "      <td>20190501</td>\n",
       "      <td>기존</td>\n",
       "      <td>22</td>\n",
       "      <td>ko.news</td>\n",
       "    </tr>\n",
       "    <tr>\n",
       "      <th>...</th>\n",
       "      <td>...</td>\n",
       "      <td>...</td>\n",
       "      <td>...</td>\n",
       "      <td>...</td>\n",
       "      <td>...</td>\n",
       "    </tr>\n",
       "    <tr>\n",
       "      <th>61014</th>\n",
       "      <td>마스크</td>\n",
       "      <td>20190731</td>\n",
       "      <td>물</td>\n",
       "      <td>54</td>\n",
       "      <td>ko.total</td>\n",
       "    </tr>\n",
       "    <tr>\n",
       "      <th>61015</th>\n",
       "      <td>마스크</td>\n",
       "      <td>20190731</td>\n",
       "      <td>경찰</td>\n",
       "      <td>53</td>\n",
       "      <td>ko.total</td>\n",
       "    </tr>\n",
       "    <tr>\n",
       "      <th>61016</th>\n",
       "      <td>마스크</td>\n",
       "      <td>20190731</td>\n",
       "      <td>각질</td>\n",
       "      <td>53</td>\n",
       "      <td>ko.total</td>\n",
       "    </tr>\n",
       "    <tr>\n",
       "      <th>61017</th>\n",
       "      <td>마스크</td>\n",
       "      <td>20190731</td>\n",
       "      <td>기회</td>\n",
       "      <td>52</td>\n",
       "      <td>ko.total</td>\n",
       "    </tr>\n",
       "    <tr>\n",
       "      <th>61018</th>\n",
       "      <td>마스크</td>\n",
       "      <td>20190731</td>\n",
       "      <td>광채</td>\n",
       "      <td>51</td>\n",
       "      <td>ko.total</td>\n",
       "    </tr>\n",
       "  </tbody>\n",
       "</table>\n",
       "<p>45841 rows × 5 columns</p>\n",
       "</div>"
      ],
      "text/plain": [
       "       키워드      기준일자   연관어  문서빈도수        채널\n",
       "15178  마스크  20190501    먼지     27   ko.news\n",
       "15179  마스크  20190501  미세먼지     27   ko.news\n",
       "15180  마스크  20190501    뉴스     24   ko.news\n",
       "15181  마스크  20190501    공기     22   ko.news\n",
       "15182  마스크  20190501    기존     22   ko.news\n",
       "...    ...       ...   ...    ...       ...\n",
       "61014  마스크  20190731     물     54  ko.total\n",
       "61015  마스크  20190731    경찰     53  ko.total\n",
       "61016  마스크  20190731    각질     53  ko.total\n",
       "61017  마스크  20190731    기회     52  ko.total\n",
       "61018  마스크  20190731    광채     51  ko.total\n",
       "\n",
       "[45841 rows x 5 columns]"
      ]
     },
     "execution_count": 73,
     "metadata": {},
     "output_type": "execute_result"
    }
   ],
   "source": [
    "#마스크,피시방,소상공인\n",
    "mask_19 = words_2019[words_2019.키워드 == '마스크']\n",
    "mask_19"
   ]
  },
  {
   "cell_type": "code",
   "execution_count": 74,
   "metadata": {},
   "outputs": [],
   "source": [
    "# 마스크 관련 상위 10개 문서 빈도수\n",
    "mask_19 = mask.groupby('연관어').sum().sort_values(by=\"문서빈도수\", ascending=False)[:10]\n",
    "mask_19.drop('기준일자',axis=1,inplace=True)"
   ]
  },
  {
   "cell_type": "code",
   "execution_count": 82,
   "metadata": {},
   "outputs": [
    {
     "data": {
      "text/plain": [
       "<matplotlib.axes._subplots.AxesSubplot at 0x1d5842155b0>"
      ]
     },
     "execution_count": 82,
     "metadata": {},
     "output_type": "execute_result"
    },
    {
     "data": {
      "image/png": "[encoded data removed]",
      "text/plain": [
       "<Figure size 432x288 with 1 Axes>"
      ]
     },
     "metadata": {
      "needs_background": "light"
     },
     "output_type": "display_data"
    }
   ],
   "source": [
    "mask_19.plot.bar()"
   ]
  },
  {
   "cell_type": "code",
   "execution_count": 83,
   "metadata": {},
   "outputs": [
    {
     "data": {
      "text/html": [
       "<div>\n",
       "<style scoped>\n",
       "    .dataframe tbody tr th:only-of-type {\n",
       "        vertical-align: middle;\n",
       "    }\n",
       "\n",
       "    .dataframe tbody tr th {\n",
       "        vertical-align: top;\n",
       "    }\n",
       "\n",
       "    .dataframe thead th {\n",
       "        text-align: right;\n",
       "    }\n",
       "</style>\n",
       "<table border=\"1\" class=\"dataframe\">\n",
       "  <thead>\n",
       "    <tr style=\"text-align: right;\">\n",
       "      <th></th>\n",
       "      <th>키워드</th>\n",
       "      <th>기준일자</th>\n",
       "      <th>연관어</th>\n",
       "      <th>문서빈도수</th>\n",
       "      <th>채널</th>\n",
       "    </tr>\n",
       "  </thead>\n",
       "  <tbody>\n",
       "    <tr>\n",
       "      <th>114928</th>\n",
       "      <td>피시방</td>\n",
       "      <td>20190501</td>\n",
       "      <td>청원</td>\n",
       "      <td>30</td>\n",
       "      <td>ko.news</td>\n",
       "    </tr>\n",
       "    <tr>\n",
       "      <th>114929</th>\n",
       "      <td>피시방</td>\n",
       "      <td>20190501</td>\n",
       "      <td>청와대</td>\n",
       "      <td>30</td>\n",
       "      <td>ko.news</td>\n",
       "    </tr>\n",
       "    <tr>\n",
       "      <th>114930</th>\n",
       "      <td>피시방</td>\n",
       "      <td>20190501</td>\n",
       "      <td>자유한국당</td>\n",
       "      <td>30</td>\n",
       "      <td>ko.news</td>\n",
       "    </tr>\n",
       "    <tr>\n",
       "      <th>114931</th>\n",
       "      <td>피시방</td>\n",
       "      <td>20190501</td>\n",
       "      <td>국민청원</td>\n",
       "      <td>28</td>\n",
       "      <td>ko.news</td>\n",
       "    </tr>\n",
       "    <tr>\n",
       "      <th>114932</th>\n",
       "      <td>피시방</td>\n",
       "      <td>20190501</td>\n",
       "      <td>사건</td>\n",
       "      <td>28</td>\n",
       "      <td>ko.news</td>\n",
       "    </tr>\n",
       "    <tr>\n",
       "      <th>...</th>\n",
       "      <td>...</td>\n",
       "      <td>...</td>\n",
       "      <td>...</td>\n",
       "      <td>...</td>\n",
       "      <td>...</td>\n",
       "    </tr>\n",
       "    <tr>\n",
       "      <th>158097</th>\n",
       "      <td>피시방</td>\n",
       "      <td>20190731</td>\n",
       "      <td>피씨방</td>\n",
       "      <td>20</td>\n",
       "      <td>ko.total</td>\n",
       "    </tr>\n",
       "    <tr>\n",
       "      <th>158098</th>\n",
       "      <td>피시방</td>\n",
       "      <td>20190731</td>\n",
       "      <td>키보드</td>\n",
       "      <td>20</td>\n",
       "      <td>ko.total</td>\n",
       "    </tr>\n",
       "    <tr>\n",
       "      <th>158099</th>\n",
       "      <td>피시방</td>\n",
       "      <td>20190731</td>\n",
       "      <td>오빠</td>\n",
       "      <td>20</td>\n",
       "      <td>ko.total</td>\n",
       "    </tr>\n",
       "    <tr>\n",
       "      <th>158100</th>\n",
       "      <td>피시방</td>\n",
       "      <td>20190731</td>\n",
       "      <td>치킨</td>\n",
       "      <td>20</td>\n",
       "      <td>ko.total</td>\n",
       "    </tr>\n",
       "    <tr>\n",
       "      <th>158101</th>\n",
       "      <td>피시방</td>\n",
       "      <td>20190731</td>\n",
       "      <td>셀피</td>\n",
       "      <td>20</td>\n",
       "      <td>ko.total</td>\n",
       "    </tr>\n",
       "  </tbody>\n",
       "</table>\n",
       "<p>43174 rows × 5 columns</p>\n",
       "</div>"
      ],
      "text/plain": [
       "        키워드      기준일자    연관어  문서빈도수        채널\n",
       "114928  피시방  20190501     청원     30   ko.news\n",
       "114929  피시방  20190501    청와대     30   ko.news\n",
       "114930  피시방  20190501  자유한국당     30   ko.news\n",
       "114931  피시방  20190501   국민청원     28   ko.news\n",
       "114932  피시방  20190501     사건     28   ko.news\n",
       "...     ...       ...    ...    ...       ...\n",
       "158097  피시방  20190731    피씨방     20  ko.total\n",
       "158098  피시방  20190731    키보드     20  ko.total\n",
       "158099  피시방  20190731     오빠     20  ko.total\n",
       "158100  피시방  20190731     치킨     20  ko.total\n",
       "158101  피시방  20190731     셀피     20  ko.total\n",
       "\n",
       "[43174 rows x 5 columns]"
      ]
     },
     "execution_count": 83,
     "metadata": {},
     "output_type": "execute_result"
    }
   ],
   "source": [
    "pc_room = words_2019[words_2019.키워드 == '피시방']\n",
    "pc_room"
   ]
  },
  {
   "cell_type": "code",
   "execution_count": 84,
   "metadata": {},
   "outputs": [],
   "source": [
    "# 피시방 관련 상위 10개 문서 빈도수\n",
    "pc_room = pc_room.groupby('연관어').sum().sort_values(by=\"문서빈도수\", ascending=False)[:10]\n",
    "pc_room.drop('기준일자',axis=1,inplace=True)"
   ]
  },
  {
   "cell_type": "code",
   "execution_count": 85,
   "metadata": {},
   "outputs": [
    {
     "data": {
      "text/plain": [
       "<matplotlib.axes._subplots.AxesSubplot at 0x1d5841fcfa0>"
      ]
     },
     "execution_count": 85,
     "metadata": {},
     "output_type": "execute_result"
    },
    {
     "data": {
      "image/png": "[encoded data removed]",
      "text/plain": [
       "<Figure size 432x288 with 1 Axes>"
      ]
     },
     "metadata": {
      "needs_background": "light"
     },
     "output_type": "display_data"
    }
   ],
   "source": [
    "pc_room.plot.bar()"
   ]
  },
  {
   "cell_type": "code",
   "execution_count": 86,
   "metadata": {},
   "outputs": [
    {
     "data": {
      "text/html": [
       "<div>\n",
       "<style scoped>\n",
       "    .dataframe tbody tr th:only-of-type {\n",
       "        vertical-align: middle;\n",
       "    }\n",
       "\n",
       "    .dataframe tbody tr th {\n",
       "        vertical-align: top;\n",
       "    }\n",
       "\n",
       "    .dataframe thead th {\n",
       "        text-align: right;\n",
       "    }\n",
       "</style>\n",
       "<table border=\"1\" class=\"dataframe\">\n",
       "  <thead>\n",
       "    <tr style=\"text-align: right;\">\n",
       "      <th></th>\n",
       "      <th>키워드</th>\n",
       "      <th>기준일자</th>\n",
       "      <th>연관어</th>\n",
       "      <th>문서빈도수</th>\n",
       "      <th>채널</th>\n",
       "    </tr>\n",
       "  </thead>\n",
       "  <tbody>\n",
       "    <tr>\n",
       "      <th>70616</th>\n",
       "      <td>소상공인</td>\n",
       "      <td>20190501</td>\n",
       "      <td>계획</td>\n",
       "      <td>84</td>\n",
       "      <td>ko.news</td>\n",
       "    </tr>\n",
       "    <tr>\n",
       "      <th>70617</th>\n",
       "      <td>소상공인</td>\n",
       "      <td>20190501</td>\n",
       "      <td>정부</td>\n",
       "      <td>75</td>\n",
       "      <td>ko.news</td>\n",
       "    </tr>\n",
       "    <tr>\n",
       "      <th>70618</th>\n",
       "      <td>소상공인</td>\n",
       "      <td>20190501</td>\n",
       "      <td>지역</td>\n",
       "      <td>73</td>\n",
       "      <td>ko.news</td>\n",
       "    </tr>\n",
       "    <tr>\n",
       "      <th>70619</th>\n",
       "      <td>소상공인</td>\n",
       "      <td>20190501</td>\n",
       "      <td>지원</td>\n",
       "      <td>62</td>\n",
       "      <td>ko.news</td>\n",
       "    </tr>\n",
       "    <tr>\n",
       "      <th>70620</th>\n",
       "      <td>소상공인</td>\n",
       "      <td>20190501</td>\n",
       "      <td>시설</td>\n",
       "      <td>57</td>\n",
       "      <td>ko.news</td>\n",
       "    </tr>\n",
       "    <tr>\n",
       "      <th>...</th>\n",
       "      <td>...</td>\n",
       "      <td>...</td>\n",
       "      <td>...</td>\n",
       "      <td>...</td>\n",
       "      <td>...</td>\n",
       "    </tr>\n",
       "    <tr>\n",
       "      <th>114923</th>\n",
       "      <td>소상공인</td>\n",
       "      <td>20190731</td>\n",
       "      <td>남매</td>\n",
       "      <td>13</td>\n",
       "      <td>ko.total</td>\n",
       "    </tr>\n",
       "    <tr>\n",
       "      <th>114924</th>\n",
       "      <td>소상공인</td>\n",
       "      <td>20190731</td>\n",
       "      <td>퍼레이드</td>\n",
       "      <td>13</td>\n",
       "      <td>ko.total</td>\n",
       "    </tr>\n",
       "    <tr>\n",
       "      <th>114925</th>\n",
       "      <td>소상공인</td>\n",
       "      <td>20190731</td>\n",
       "      <td>슈퍼스타</td>\n",
       "      <td>13</td>\n",
       "      <td>ko.total</td>\n",
       "    </tr>\n",
       "    <tr>\n",
       "      <th>114926</th>\n",
       "      <td>소상공인</td>\n",
       "      <td>20190731</td>\n",
       "      <td>부스터</td>\n",
       "      <td>13</td>\n",
       "      <td>ko.total</td>\n",
       "    </tr>\n",
       "    <tr>\n",
       "      <th>114927</th>\n",
       "      <td>소상공인</td>\n",
       "      <td>20190731</td>\n",
       "      <td>요정</td>\n",
       "      <td>13</td>\n",
       "      <td>ko.total</td>\n",
       "    </tr>\n",
       "  </tbody>\n",
       "</table>\n",
       "<p>44312 rows × 5 columns</p>\n",
       "</div>"
      ],
      "text/plain": [
       "         키워드      기준일자   연관어  문서빈도수        채널\n",
       "70616   소상공인  20190501    계획     84   ko.news\n",
       "70617   소상공인  20190501    정부     75   ko.news\n",
       "70618   소상공인  20190501    지역     73   ko.news\n",
       "70619   소상공인  20190501    지원     62   ko.news\n",
       "70620   소상공인  20190501    시설     57   ko.news\n",
       "...      ...       ...   ...    ...       ...\n",
       "114923  소상공인  20190731    남매     13  ko.total\n",
       "114924  소상공인  20190731  퍼레이드     13  ko.total\n",
       "114925  소상공인  20190731  슈퍼스타     13  ko.total\n",
       "114926  소상공인  20190731   부스터     13  ko.total\n",
       "114927  소상공인  20190731    요정     13  ko.total\n",
       "\n",
       "[44312 rows x 5 columns]"
      ]
     },
     "execution_count": 86,
     "metadata": {},
     "output_type": "execute_result"
    }
   ],
   "source": [
    "sb = words_2019[words_2019.키워드 == '소상공인']\n",
    "sb"
   ]
  },
  {
   "cell_type": "code",
   "execution_count": 87,
   "metadata": {},
   "outputs": [],
   "source": [
    "# 소상공인 관련 상위 10개 문서 빈도수\n",
    "sb = sb.groupby('연관어').sum().sort_values(by=\"문서빈도수\", ascending=False)[:10]\n",
    "sb.drop('기준일자',axis=1,inplace=True)"
   ]
  },
  {
   "cell_type": "code",
   "execution_count": 88,
   "metadata": {},
   "outputs": [
    {
     "data": {
      "text/plain": [
       "<matplotlib.axes._subplots.AxesSubplot at 0x1d58438ec70>"
      ]
     },
     "execution_count": 88,
     "metadata": {},
     "output_type": "execute_result"
    },
    {
     "data": {
      "image/png": "[encoded data removed]",
      "text/plain": [
       "<Figure size 432x288 with 1 Axes>"
      ]
     },
     "metadata": {
      "needs_background": "light"
     },
     "output_type": "display_data"
    }
   ],
   "source": [
    "sb.plot.bar()"
   ]
  },
  {
   "cell_type": "code",
   "execution_count": 60,
   "metadata": {},
   "outputs": [
    {
     "data": {
      "text/html": [
       "<div>\n",
       "<style scoped>\n",
       "    .dataframe tbody tr th:only-of-type {\n",
       "        vertical-align: middle;\n",
       "    }\n",
       "\n",
       "    .dataframe tbody tr th {\n",
       "        vertical-align: top;\n",
       "    }\n",
       "\n",
       "    .dataframe thead th {\n",
       "        text-align: right;\n",
       "    }\n",
       "</style>\n",
       "<table border=\"1\" class=\"dataframe\">\n",
       "  <thead>\n",
       "    <tr style=\"text-align: right;\">\n",
       "      <th></th>\n",
       "      <th>키워드</th>\n",
       "      <th>기준일자</th>\n",
       "      <th>연관어</th>\n",
       "      <th>문서빈도수</th>\n",
       "      <th>채널</th>\n",
       "    </tr>\n",
       "  </thead>\n",
       "  <tbody>\n",
       "    <tr>\n",
       "      <th>190258</th>\n",
       "      <td>마스크</td>\n",
       "      <td>20200501</td>\n",
       "      <td>코로나</td>\n",
       "      <td>561</td>\n",
       "      <td>ko.news</td>\n",
       "    </tr>\n",
       "    <tr>\n",
       "      <th>190259</th>\n",
       "      <td>마스크</td>\n",
       "      <td>20200501</td>\n",
       "      <td>기자</td>\n",
       "      <td>543</td>\n",
       "      <td>ko.news</td>\n",
       "    </tr>\n",
       "    <tr>\n",
       "      <th>190260</th>\n",
       "      <td>마스크</td>\n",
       "      <td>20200501</td>\n",
       "      <td>코로나19</td>\n",
       "      <td>501</td>\n",
       "      <td>ko.news</td>\n",
       "    </tr>\n",
       "    <tr>\n",
       "      <th>190261</th>\n",
       "      <td>마스크</td>\n",
       "      <td>20200501</td>\n",
       "      <td>바이러스</td>\n",
       "      <td>263</td>\n",
       "      <td>ko.news</td>\n",
       "    </tr>\n",
       "    <tr>\n",
       "      <th>190262</th>\n",
       "      <td>마스크</td>\n",
       "      <td>20200501</td>\n",
       "      <td>방역</td>\n",
       "      <td>262</td>\n",
       "      <td>ko.news</td>\n",
       "    </tr>\n",
       "    <tr>\n",
       "      <th>...</th>\n",
       "      <td>...</td>\n",
       "      <td>...</td>\n",
       "      <td>...</td>\n",
       "      <td>...</td>\n",
       "      <td>...</td>\n",
       "    </tr>\n",
       "    <tr>\n",
       "      <th>236253</th>\n",
       "      <td>마스크</td>\n",
       "      <td>20200731</td>\n",
       "      <td>하루</td>\n",
       "      <td>321</td>\n",
       "      <td>ko.total</td>\n",
       "    </tr>\n",
       "    <tr>\n",
       "      <th>236254</th>\n",
       "      <td>마스크</td>\n",
       "      <td>20200731</td>\n",
       "      <td>실내</td>\n",
       "      <td>312</td>\n",
       "      <td>ko.total</td>\n",
       "    </tr>\n",
       "    <tr>\n",
       "      <th>236255</th>\n",
       "      <td>마스크</td>\n",
       "      <td>20200731</td>\n",
       "      <td>고구마</td>\n",
       "      <td>304</td>\n",
       "      <td>ko.total</td>\n",
       "    </tr>\n",
       "    <tr>\n",
       "      <th>236256</th>\n",
       "      <td>마스크</td>\n",
       "      <td>20200731</td>\n",
       "      <td>세트</td>\n",
       "      <td>299</td>\n",
       "      <td>ko.total</td>\n",
       "    </tr>\n",
       "    <tr>\n",
       "      <th>236257</th>\n",
       "      <td>마스크</td>\n",
       "      <td>20200731</td>\n",
       "      <td>환경</td>\n",
       "      <td>297</td>\n",
       "      <td>ko.total</td>\n",
       "    </tr>\n",
       "  </tbody>\n",
       "</table>\n",
       "<p>46000 rows × 5 columns</p>\n",
       "</div>"
      ],
      "text/plain": [
       "        키워드      기준일자    연관어  문서빈도수        채널\n",
       "190258  마스크  20200501    코로나    561   ko.news\n",
       "190259  마스크  20200501     기자    543   ko.news\n",
       "190260  마스크  20200501  코로나19    501   ko.news\n",
       "190261  마스크  20200501   바이러스    263   ko.news\n",
       "190262  마스크  20200501     방역    262   ko.news\n",
       "...     ...       ...    ...    ...       ...\n",
       "236253  마스크  20200731     하루    321  ko.total\n",
       "236254  마스크  20200731     실내    312  ko.total\n",
       "236255  마스크  20200731    고구마    304  ko.total\n",
       "236256  마스크  20200731     세트    299  ko.total\n",
       "236257  마스크  20200731     환경    297  ko.total\n",
       "\n",
       "[46000 rows x 5 columns]"
      ]
     },
     "execution_count": 60,
     "metadata": {},
     "output_type": "execute_result"
    }
   ],
   "source": [
    "mask = words_2020[words_2020.키워드 == '마스크']\n",
    "mask"
   ]
  },
  {
   "cell_type": "code",
   "execution_count": 61,
   "metadata": {},
   "outputs": [],
   "source": [
    "# 마스크 관련 상위 10개 문서 빈도수\n",
    "mask_20 = mask.groupby('연관어').sum().sort_values(by=\"문서빈도수\", ascending=False)[:10]\n",
    "mask_20.drop('기준일자',axis=1,inplace=True)"
   ]
  },
  {
   "cell_type": "code",
   "execution_count": 62,
   "metadata": {
    "scrolled": true
   },
   "outputs": [
    {
     "data": {
      "text/plain": [
       "<matplotlib.axes._subplots.AxesSubplot at 0x1d582f98bb0>"
      ]
     },
     "execution_count": 62,
     "metadata": {},
     "output_type": "execute_result"
    },
    {
     "data": {
      "image/png": "[encoded data removed]",
      "text/plain": [
       "<Figure size 432x288 with 1 Axes>"
      ]
     },
     "metadata": {
      "needs_background": "light"
     },
     "output_type": "display_data"
    }
   ],
   "source": [
    "mask_20.plot.bar()"
   ]
  },
  {
   "cell_type": "code",
   "execution_count": 64,
   "metadata": {},
   "outputs": [
    {
     "data": {
      "text/html": [
       "<div>\n",
       "<style scoped>\n",
       "    .dataframe tbody tr th:only-of-type {\n",
       "        vertical-align: middle;\n",
       "    }\n",
       "\n",
       "    .dataframe tbody tr th {\n",
       "        vertical-align: top;\n",
       "    }\n",
       "\n",
       "    .dataframe thead th {\n",
       "        text-align: right;\n",
       "    }\n",
       "</style>\n",
       "<table border=\"1\" class=\"dataframe\">\n",
       "  <thead>\n",
       "    <tr style=\"text-align: right;\">\n",
       "      <th></th>\n",
       "      <th>키워드</th>\n",
       "      <th>기준일자</th>\n",
       "      <th>연관어</th>\n",
       "      <th>문서빈도수</th>\n",
       "      <th>채널</th>\n",
       "    </tr>\n",
       "  </thead>\n",
       "  <tbody>\n",
       "    <tr>\n",
       "      <th>0</th>\n",
       "      <td>코로나19</td>\n",
       "      <td>20200501</td>\n",
       "      <td>코로나</td>\n",
       "      <td>4138</td>\n",
       "      <td>ko.news</td>\n",
       "    </tr>\n",
       "    <tr>\n",
       "      <th>1</th>\n",
       "      <td>코로나19</td>\n",
       "      <td>20200501</td>\n",
       "      <td>바이러스</td>\n",
       "      <td>1636</td>\n",
       "      <td>ko.news</td>\n",
       "    </tr>\n",
       "    <tr>\n",
       "      <th>2</th>\n",
       "      <td>코로나19</td>\n",
       "      <td>20200501</td>\n",
       "      <td>코로나바이러스</td>\n",
       "      <td>1481</td>\n",
       "      <td>ko.news</td>\n",
       "    </tr>\n",
       "    <tr>\n",
       "      <th>3</th>\n",
       "      <td>코로나19</td>\n",
       "      <td>20200501</td>\n",
       "      <td>감염증</td>\n",
       "      <td>1437</td>\n",
       "      <td>ko.news</td>\n",
       "    </tr>\n",
       "    <tr>\n",
       "      <th>4</th>\n",
       "      <td>코로나19</td>\n",
       "      <td>20200501</td>\n",
       "      <td>서울</td>\n",
       "      <td>1415</td>\n",
       "      <td>ko.news</td>\n",
       "    </tr>\n",
       "    <tr>\n",
       "      <th>...</th>\n",
       "      <td>...</td>\n",
       "      <td>...</td>\n",
       "      <td>...</td>\n",
       "      <td>...</td>\n",
       "      <td>...</td>\n",
       "    </tr>\n",
       "    <tr>\n",
       "      <th>45995</th>\n",
       "      <td>코로나19</td>\n",
       "      <td>20200731</td>\n",
       "      <td>직원</td>\n",
       "      <td>420</td>\n",
       "      <td>ko.total</td>\n",
       "    </tr>\n",
       "    <tr>\n",
       "      <th>45996</th>\n",
       "      <td>코로나19</td>\n",
       "      <td>20200731</td>\n",
       "      <td>산업</td>\n",
       "      <td>419</td>\n",
       "      <td>ko.total</td>\n",
       "    </tr>\n",
       "    <tr>\n",
       "      <th>45997</th>\n",
       "      <td>코로나19</td>\n",
       "      <td>20200731</td>\n",
       "      <td>가능성</td>\n",
       "      <td>417</td>\n",
       "      <td>ko.total</td>\n",
       "    </tr>\n",
       "    <tr>\n",
       "      <th>45998</th>\n",
       "      <td>코로나19</td>\n",
       "      <td>20200731</td>\n",
       "      <td>시민</td>\n",
       "      <td>403</td>\n",
       "      <td>ko.total</td>\n",
       "    </tr>\n",
       "    <tr>\n",
       "      <th>45999</th>\n",
       "      <td>코로나19</td>\n",
       "      <td>20200731</td>\n",
       "      <td>진단</td>\n",
       "      <td>403</td>\n",
       "      <td>ko.total</td>\n",
       "    </tr>\n",
       "  </tbody>\n",
       "</table>\n",
       "<p>46000 rows × 5 columns</p>\n",
       "</div>"
      ],
      "text/plain": [
       "         키워드      기준일자      연관어  문서빈도수        채널\n",
       "0      코로나19  20200501      코로나   4138   ko.news\n",
       "1      코로나19  20200501     바이러스   1636   ko.news\n",
       "2      코로나19  20200501  코로나바이러스   1481   ko.news\n",
       "3      코로나19  20200501      감염증   1437   ko.news\n",
       "4      코로나19  20200501       서울   1415   ko.news\n",
       "...      ...       ...      ...    ...       ...\n",
       "45995  코로나19  20200731       직원    420  ko.total\n",
       "45996  코로나19  20200731       산업    419  ko.total\n",
       "45997  코로나19  20200731      가능성    417  ko.total\n",
       "45998  코로나19  20200731       시민    403  ko.total\n",
       "45999  코로나19  20200731       진단    403  ko.total\n",
       "\n",
       "[46000 rows x 5 columns]"
      ]
     },
     "execution_count": 64,
     "metadata": {},
     "output_type": "execute_result"
    }
   ],
   "source": [
    "corona19_20 =  words_2020[words_2020.키워드 == '코로나19']\n",
    "corona19_20"
   ]
  },
  {
   "cell_type": "code",
   "execution_count": 65,
   "metadata": {},
   "outputs": [],
   "source": [
    "# 코로나19 상위 10개 문서 빈도수\n",
    "corona19_20 = corona19_20.groupby('연관어').sum().sort_values(by=\"문서빈도수\", ascending=False)[:10]\n",
    "corona19_20.drop('기준일자',axis=1,inplace=True)"
   ]
  },
  {
   "cell_type": "code",
   "execution_count": 66,
   "metadata": {},
   "outputs": [
    {
     "data": {
      "text/plain": [
       "<matplotlib.axes._subplots.AxesSubplot at 0x1d582f98910>"
      ]
     },
     "execution_count": 66,
     "metadata": {},
     "output_type": "execute_result"
    },
    {
     "data": {
      "image/png": "[encoded data removed]",
      "text/plain": [
       "<Figure size 432x288 with 1 Axes>"
      ]
     },
     "metadata": {
      "needs_background": "light"
     },
     "output_type": "display_data"
    }
   ],
   "source": [
    "corona19_20.plot.bar()"
   ]
  },
  {
   "cell_type": "code",
   "execution_count": 68,
   "metadata": {},
   "outputs": [
    {
     "data": {
      "text/html": [
       "<div>\n",
       "<style scoped>\n",
       "    .dataframe tbody tr th:only-of-type {\n",
       "        vertical-align: middle;\n",
       "    }\n",
       "\n",
       "    .dataframe tbody tr th {\n",
       "        vertical-align: top;\n",
       "    }\n",
       "\n",
       "    .dataframe thead th {\n",
       "        text-align: right;\n",
       "    }\n",
       "</style>\n",
       "<table border=\"1\" class=\"dataframe\">\n",
       "  <thead>\n",
       "    <tr style=\"text-align: right;\">\n",
       "      <th></th>\n",
       "      <th>키워드</th>\n",
       "      <th>기준일자</th>\n",
       "      <th>연관어</th>\n",
       "      <th>문서빈도수</th>\n",
       "      <th>채널</th>\n",
       "    </tr>\n",
       "  </thead>\n",
       "  <tbody>\n",
       "    <tr>\n",
       "      <th>94791</th>\n",
       "      <td>사회적거리두기</td>\n",
       "      <td>20200501</td>\n",
       "      <td>코로나</td>\n",
       "      <td>644</td>\n",
       "      <td>ko.news</td>\n",
       "    </tr>\n",
       "    <tr>\n",
       "      <th>94792</th>\n",
       "      <td>사회적거리두기</td>\n",
       "      <td>20200501</td>\n",
       "      <td>코로나19</td>\n",
       "      <td>546</td>\n",
       "      <td>ko.news</td>\n",
       "    </tr>\n",
       "    <tr>\n",
       "      <th>94793</th>\n",
       "      <td>사회적거리두기</td>\n",
       "      <td>20200501</td>\n",
       "      <td>방역</td>\n",
       "      <td>240</td>\n",
       "      <td>ko.news</td>\n",
       "    </tr>\n",
       "    <tr>\n",
       "      <th>94794</th>\n",
       "      <td>사회적거리두기</td>\n",
       "      <td>20200501</td>\n",
       "      <td>바이러스</td>\n",
       "      <td>236</td>\n",
       "      <td>ko.news</td>\n",
       "    </tr>\n",
       "    <tr>\n",
       "      <th>94795</th>\n",
       "      <td>사회적거리두기</td>\n",
       "      <td>20200501</td>\n",
       "      <td>코로나바이러스</td>\n",
       "      <td>219</td>\n",
       "      <td>ko.news</td>\n",
       "    </tr>\n",
       "    <tr>\n",
       "      <th>...</th>\n",
       "      <td>...</td>\n",
       "      <td>...</td>\n",
       "      <td>...</td>\n",
       "      <td>...</td>\n",
       "      <td>...</td>\n",
       "    </tr>\n",
       "    <tr>\n",
       "      <th>140238</th>\n",
       "      <td>사회적거리두기</td>\n",
       "      <td>20200731</td>\n",
       "      <td>가능성</td>\n",
       "      <td>17</td>\n",
       "      <td>ko.total</td>\n",
       "    </tr>\n",
       "    <tr>\n",
       "      <th>140239</th>\n",
       "      <td>사회적거리두기</td>\n",
       "      <td>20200731</td>\n",
       "      <td>장소</td>\n",
       "      <td>17</td>\n",
       "      <td>ko.total</td>\n",
       "    </tr>\n",
       "    <tr>\n",
       "      <th>140240</th>\n",
       "      <td>사회적거리두기</td>\n",
       "      <td>20200731</td>\n",
       "      <td>공간</td>\n",
       "      <td>17</td>\n",
       "      <td>ko.total</td>\n",
       "    </tr>\n",
       "    <tr>\n",
       "      <th>140241</th>\n",
       "      <td>사회적거리두기</td>\n",
       "      <td>20200731</td>\n",
       "      <td>관중</td>\n",
       "      <td>16</td>\n",
       "      <td>ko.total</td>\n",
       "    </tr>\n",
       "    <tr>\n",
       "      <th>140242</th>\n",
       "      <td>사회적거리두기</td>\n",
       "      <td>20200731</td>\n",
       "      <td>프로그램</td>\n",
       "      <td>16</td>\n",
       "      <td>ko.total</td>\n",
       "    </tr>\n",
       "  </tbody>\n",
       "</table>\n",
       "<p>45452 rows × 5 columns</p>\n",
       "</div>"
      ],
      "text/plain": [
       "            키워드      기준일자      연관어  문서빈도수        채널\n",
       "94791   사회적거리두기  20200501      코로나    644   ko.news\n",
       "94792   사회적거리두기  20200501    코로나19    546   ko.news\n",
       "94793   사회적거리두기  20200501       방역    240   ko.news\n",
       "94794   사회적거리두기  20200501     바이러스    236   ko.news\n",
       "94795   사회적거리두기  20200501  코로나바이러스    219   ko.news\n",
       "...         ...       ...      ...    ...       ...\n",
       "140238  사회적거리두기  20200731      가능성     17  ko.total\n",
       "140239  사회적거리두기  20200731       장소     17  ko.total\n",
       "140240  사회적거리두기  20200731       공간     17  ko.total\n",
       "140241  사회적거리두기  20200731       관중     16  ko.total\n",
       "140242  사회적거리두기  20200731     프로그램     16  ko.total\n",
       "\n",
       "[45452 rows x 5 columns]"
      ]
     },
     "execution_count": 68,
     "metadata": {},
     "output_type": "execute_result"
    }
   ],
   "source": [
    "distance_20 = words_2020[words_2020.키워드 == '사회적거리두기']\n",
    "distance_20"
   ]
  },
  {
   "cell_type": "code",
   "execution_count": 69,
   "metadata": {},
   "outputs": [],
   "source": [
    "# 사회적거리두기 상위 10개 문서 빈도수\n",
    "distance_20 = distance_20.groupby('연관어').sum().sort_values(by=\"문서빈도수\", ascending=False)[:10]\n",
    "distance_20.drop('기준일자',axis=1,inplace=True)"
   ]
  },
  {
   "cell_type": "code",
   "execution_count": 70,
   "metadata": {},
   "outputs": [
    {
     "data": {
      "text/plain": [
       "<matplotlib.axes._subplots.AxesSubplot at 0x1d58347c310>"
      ]
     },
     "execution_count": 70,
     "metadata": {},
     "output_type": "execute_result"
    },
    {
     "data": {
      "image/png": "[encoded data removed]",
      "text/plain": [
       "<Figure size 432x288 with 1 Axes>"
      ]
     },
     "metadata": {
      "needs_background": "light"
     },
     "output_type": "display_data"
    }
   ],
   "source": [
    "distance_20.plot.bar()"
   ]
  },
  {
   "cell_type": "code",
   "execution_count": null,
   "metadata": {},
   "outputs": [],
   "source": []
  },
  {
   "cell_type": "code",
   "execution_count": null,
   "metadata": {},
   "outputs": [],
   "source": []
  },
  {
   "cell_type": "code",
   "execution_count": null,
   "metadata": {},
   "outputs": [],
   "source": []
  },
  {
   "cell_type": "code",
   "execution_count": null,
   "metadata": {},
   "outputs": [],
   "source": []
  },
  {
   "cell_type": "code",
   "execution_count": null,
   "metadata": {},
   "outputs": [],
   "source": []
  },
  {
   "cell_type": "code",
   "execution_count": null,
   "metadata": {},
   "outputs": [],
   "source": []
  },
  {
   "cell_type": "code",
   "execution_count": null,
   "metadata": {},
   "outputs": [],
   "source": []
  }
 ],
 "metadata": {
  "kernelspec": {
   "display_name": "Python 3",
   "language": "python",
   "name": "python3"
  },
  "language_info": {
   "codemirror_mode": {
    "name": "ipython",
    "version": 3
   },
   "file_extension": ".py",
   "mimetype": "text/x-python",
   "name": "python",
   "nbconvert_exporter": "python",
   "pygments_lexer": "ipython3",
   "version": "3.8.3"
  }
 },
 "nbformat": 4,
 "nbformat_minor": 4
}
